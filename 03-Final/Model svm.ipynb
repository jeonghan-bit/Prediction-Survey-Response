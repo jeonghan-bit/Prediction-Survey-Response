{
 "cells": [
  {
   "cell_type": "markdown",
   "source": [],
   "metadata": {
    "collapsed": false
   },
   "id": "9b3269a315b66871"
  },
  {
   "cell_type": "code",
   "outputs": [],
   "source": [
    "from EDA_script import *"
   ],
   "metadata": {
    "collapsed": false,
    "ExecuteTime": {
     "end_time": "2024-03-28T05:24:21.548158Z",
     "start_time": "2024-03-28T05:24:21.527284Z"
    }
   },
   "id": "44f8c7a88982bb71",
   "execution_count": 3
  },
  {
   "cell_type": "markdown",
   "source": [
    "## svm"
   ],
   "metadata": {
    "collapsed": false
   },
   "id": "14d412cba7b3766e"
  },
  {
   "cell_type": "code",
   "outputs": [
    {
     "name": "stdout",
     "output_type": "stream",
     "text": [
      "Fitting 5 folds for each of 10 candidates, totalling 50 fits\n"
     ]
    }
   ],
   "source": [
    "import numpy as np\n",
    "from sklearn.pipeline import Pipeline\n",
    "from sklearn.preprocessing import StandardScaler\n",
    "from sklearn.svm import SVC\n",
    "from sklearn.model_selection import RandomizedSearchCV\n",
    "from sklearn.metrics import accuracy_score\n",
    "\n",
    "pipeline = Pipeline([\n",
    "    ('scaler', StandardScaler()),\n",
    "])\n",
    "\n",
    "X_train_scaled = pipeline.fit_transform(df_train)\n",
    "X_test_scaled = pipeline.transform(df_test)\n",
    "y_train = df_y.values.ravel()\n",
    "\n",
    "# Setup and perform RandomizedSearchCV\n",
    "param_distributions = {'C': [0.1, 1, 10, 100, 1000],\n",
    "                       'gamma': [1, 0.1, 0.01, 0.001, 0.0001],\n",
    "                       'kernel': ['rbf', 'linear']}\n",
    "random_search = RandomizedSearchCV(SVC(class_weight='balanced', probability=True), param_distributions, n_iter=10, cv=5, verbose=2, random_state=123)\n",
    "random_search.fit(X_train_scaled, y_train)\n",
    "\n",
    "# Display best parameters and score\n",
    "print(\"Best parameters found:\", random_search.best_params_)\n",
    "print(\"Best cross-validation score:\", random_search.best_score_)"
   ],
   "metadata": {
    "collapsed": false,
    "is_executing": true,
    "ExecuteTime": {
     "start_time": "2024-03-28T06:15:31.354992Z"
    }
   },
   "id": "8ca61dd3adeb04ce",
   "execution_count": null
  }
 ],
 "metadata": {
  "kernelspec": {
   "display_name": "Python 3",
   "language": "python",
   "name": "python3"
  },
  "language_info": {
   "codemirror_mode": {
    "name": "ipython",
    "version": 2
   },
   "file_extension": ".py",
   "mimetype": "text/x-python",
   "name": "python",
   "nbconvert_exporter": "python",
   "pygments_lexer": "ipython2",
   "version": "2.7.6"
  }
 },
 "nbformat": 4,
 "nbformat_minor": 5
}
