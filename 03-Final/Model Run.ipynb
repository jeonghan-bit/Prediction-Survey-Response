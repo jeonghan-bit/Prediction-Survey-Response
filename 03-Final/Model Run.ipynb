{
 "cells": [
  {
   "cell_type": "code",
   "execution_count": 26,
   "id": "initial_id",
   "metadata": {
    "collapsed": true,
    "ExecuteTime": {
     "end_time": "2024-03-23T18:33:20.856590Z",
     "start_time": "2024-03-23T18:33:19.128192Z"
    }
   },
   "outputs": [],
   "source": [
    "import pandas as pd\n",
    "import numpy as np\n",
    "import os\n",
    "import matplotlib.pyplot as plt\n",
    "import seaborn as sns\n",
    "import xgboost as xgb\n",
    "from tabulate import tabulate\n",
    "\n",
    "pd.options.display.max_rows = 999\n",
    "pd.options.display.max_columns = 999\n",
    "\n",
    "X_train = pd.read_csv(\"../01-Data/X_train.csv\", index_col=0)\n",
    "X_test = pd.read_csv(\"../01-Data/X_test.csv\", index_col=0)\n",
    "y_train = pd.read_csv(\"../01-Data/y_train.csv\", index_col=0)\n",
    "\n",
    "X_train = pd.DataFrame(X_train)\n",
    "X_test = pd.DataFrame(X_test)\n",
    "y_train = pd.DataFrame(y_train)"
   ]
  },
  {
   "cell_type": "markdown",
   "source": [
    "Add all of the preprocessing below"
   ],
   "metadata": {
    "collapsed": false
   },
   "id": "25c05a8884dfda7f"
  },
  {
   "cell_type": "markdown",
   "source": [
    "## Variable 1 - 146 Preprocessing"
   ],
   "metadata": {
    "collapsed": false
   },
   "id": "39710aab3026879d"
  },
  {
   "cell_type": "code",
   "outputs": [],
   "source": [
    "columns_to_drop = ['c_abrv', 'f46_IT', 'v72_DE', 'v73_DE', 'v74_DE', 'v75_DE', 'v76_DE', 'v77_DE', 'v78_DE', 'v79_DE']\n",
    "X_train.drop(columns=columns_to_drop, inplace=True)\n",
    "X_test.drop(columns=columns_to_drop, inplace=True)"
   ],
   "metadata": {
    "collapsed": false,
    "ExecuteTime": {
     "end_time": "2024-03-23T18:33:20.933901Z",
     "start_time": "2024-03-23T18:33:20.857637Z"
    }
   },
   "id": "d335519eab176102",
   "execution_count": 27
  },
  {
   "cell_type": "markdown",
   "source": [
    "## Variable 147 - 292 Preprocessing "
   ],
   "metadata": {
    "collapsed": false
   },
   "id": "72ef956e35e6f124"
  },
  {
   "cell_type": "code",
   "outputs": [
    {
     "name": "stdout",
     "output_type": "stream",
     "text": [
      "['v30c', 'v45c', 'v133_11c', 'v134_11c', 'v135_11c', 'v136_11c', 'v137_11c', 'v138_11c', 'v139_11c', 'v140_11c', 'v141_11c']\n",
      "['age_r', 'v228b_r', 'v231b_r', 'v233b_r', 'v239_r', 'v242_r', 'v243_r', 'v251b_r', 'v252_r', 'v261_r', 'v262_r', 'v263_r', 'v276_r', 'v278c_r', 'v279c_r', 'v279d_r', 'v281a_r']\n",
      "|   Numeric Value | Survey Answer         |\n",
      "|-----------------|-----------------------|\n",
      "|             -10 | multiple answers Mail |\n",
      "|              -2 | no answer             |\n",
      "|              -1 | dont know             |\n",
      "|               1 | a great deal          |\n",
      "|               2 | quite a lot           |\n",
      "|               3 | not very much         |\n",
      "|               4 | none at all           |\n"
     ]
    }
   ],
   "source": [
    "### Function to find the targeted colname\n",
    "def find_colname(data, target):\n",
    "    temp = []\n",
    "    for varname in data.columns:\n",
    "        if varname.endswith(target):\n",
    "            temp.append(varname)\n",
    "    return(temp)\n",
    "\n",
    "merge_colname = find_colname(X_train, '_11c')\n",
    "print(find_colname(X_train, 'c'))\n",
    "print(find_colname(X_train, '_r'))\n",
    "\n",
    "for name in merge_colname:\n",
    "    name_org = name.replace(\"_11c\", \"\")\n",
    "    X_train.loc[X_train[name_org] == -4, name_org] = X_train.loc[X_train[name_org] == -4, name]\n",
    "    \n",
    "Answer_table = [[-10, \"multiple answers Mail\"], [-2, \"no answer\"], [-1, \"dont know\"], [1, \"a great deal\"], [2, \"quite a lot\"],\n",
    "                [3, \"not very much\"], [4, \"none at all\"]]\n",
    "print(tabulate(Answer_table, headers=[\"Numeric Value\", \"Survey Answer\"], tablefmt='github'))"
   ],
   "metadata": {
    "collapsed": false,
    "ExecuteTime": {
     "end_time": "2024-03-23T18:33:20.965356Z",
     "start_time": "2024-03-23T18:33:20.934991Z"
    }
   },
   "id": "f908a39187ffa8bf",
   "execution_count": 28
  },
  {
   "cell_type": "markdown",
   "source": [
    "## Variable 293 - 438 Preprocessing"
   ],
   "metadata": {
    "collapsed": false
   },
   "id": "2d251374774258cc"
  },
  {
   "cell_type": "code",
   "outputs": [
    {
     "name": "stderr",
     "output_type": "stream",
     "text": [
      "C:\\Users\\amyoo\\AppData\\Local\\Temp\\ipykernel_22956\\1001309918.py:5: FutureWarning: A value is trying to be set on a copy of a DataFrame or Series through chained assignment using an inplace method.\n",
      "The behavior will change in pandas 3.0. This inplace method will never work because the intermediate object on which we are setting values always behaves as a copy.\n",
      "\n",
      "For example, when doing 'df[col].method(value, inplace=True)', try using 'df.method({col: value}, inplace=True)' or df[col] = df[col].method(value) instead, to perform the operation inplace on the original object.\n",
      "\n",
      "\n",
      "  X_train['v228b_r'].fillna(-3, inplace = True)\n",
      "C:\\Users\\amyoo\\AppData\\Local\\Temp\\ipykernel_22956\\1001309918.py:6: FutureWarning: A value is trying to be set on a copy of a DataFrame or Series through chained assignment using an inplace method.\n",
      "The behavior will change in pandas 3.0. This inplace method will never work because the intermediate object on which we are setting values always behaves as a copy.\n",
      "\n",
      "For example, when doing 'df[col].method(value, inplace=True)', try using 'df.method({col: value}, inplace=True)' or df[col] = df[col].method(value) instead, to perform the operation inplace on the original object.\n",
      "\n",
      "\n",
      "  X_test['v228b_r'].fillna(-3, inplace = True)\n",
      "C:\\Users\\amyoo\\AppData\\Local\\Temp\\ipykernel_22956\\1001309918.py:11: FutureWarning: A value is trying to be set on a copy of a DataFrame or Series through chained assignment using an inplace method.\n",
      "The behavior will change in pandas 3.0. This inplace method will never work because the intermediate object on which we are setting values always behaves as a copy.\n",
      "\n",
      "For example, when doing 'df[col].method(value, inplace=True)', try using 'df.method({col: value}, inplace=True)' or df[col] = df[col].method(value) instead, to perform the operation inplace on the original object.\n",
      "\n",
      "\n",
      "  X_train['v231b_r'].fillna(-3, inplace = True)\n",
      "C:\\Users\\amyoo\\AppData\\Local\\Temp\\ipykernel_22956\\1001309918.py:12: FutureWarning: A value is trying to be set on a copy of a DataFrame or Series through chained assignment using an inplace method.\n",
      "The behavior will change in pandas 3.0. This inplace method will never work because the intermediate object on which we are setting values always behaves as a copy.\n",
      "\n",
      "For example, when doing 'df[col].method(value, inplace=True)', try using 'df.method({col: value}, inplace=True)' or df[col] = df[col].method(value) instead, to perform the operation inplace on the original object.\n",
      "\n",
      "\n",
      "  X_test['v231b_r'].fillna(-3, inplace = True)\n",
      "C:\\Users\\amyoo\\AppData\\Local\\Temp\\ipykernel_22956\\1001309918.py:17: FutureWarning: A value is trying to be set on a copy of a DataFrame or Series through chained assignment using an inplace method.\n",
      "The behavior will change in pandas 3.0. This inplace method will never work because the intermediate object on which we are setting values always behaves as a copy.\n",
      "\n",
      "For example, when doing 'df[col].method(value, inplace=True)', try using 'df.method({col: value}, inplace=True)' or df[col] = df[col].method(value) instead, to perform the operation inplace on the original object.\n",
      "\n",
      "\n",
      "  X_train['v233b_r'].fillna(-3, inplace = True)\n",
      "C:\\Users\\amyoo\\AppData\\Local\\Temp\\ipykernel_22956\\1001309918.py:18: FutureWarning: A value is trying to be set on a copy of a DataFrame or Series through chained assignment using an inplace method.\n",
      "The behavior will change in pandas 3.0. This inplace method will never work because the intermediate object on which we are setting values always behaves as a copy.\n",
      "\n",
      "For example, when doing 'df[col].method(value, inplace=True)', try using 'df.method({col: value}, inplace=True)' or df[col] = df[col].method(value) instead, to perform the operation inplace on the original object.\n",
      "\n",
      "\n",
      "  X_test['v233b_r'].fillna(-3, inplace = True)\n",
      "C:\\Users\\amyoo\\AppData\\Local\\Temp\\ipykernel_22956\\1001309918.py:23: FutureWarning: A value is trying to be set on a copy of a DataFrame or Series through chained assignment using an inplace method.\n",
      "The behavior will change in pandas 3.0. This inplace method will never work because the intermediate object on which we are setting values always behaves as a copy.\n",
      "\n",
      "For example, when doing 'df[col].method(value, inplace=True)', try using 'df.method({col: value}, inplace=True)' or df[col] = df[col].method(value) instead, to perform the operation inplace on the original object.\n",
      "\n",
      "\n",
      "  X_train['v251b_r'].fillna(-3, inplace = True)\n",
      "C:\\Users\\amyoo\\AppData\\Local\\Temp\\ipykernel_22956\\1001309918.py:24: FutureWarning: A value is trying to be set on a copy of a DataFrame or Series through chained assignment using an inplace method.\n",
      "The behavior will change in pandas 3.0. This inplace method will never work because the intermediate object on which we are setting values always behaves as a copy.\n",
      "\n",
      "For example, when doing 'df[col].method(value, inplace=True)', try using 'df.method({col: value}, inplace=True)' or df[col] = df[col].method(value) instead, to perform the operation inplace on the original object.\n",
      "\n",
      "\n",
      "  X_test['v251b_r'].fillna(-3, inplace = True)\n"
     ]
    }
   ],
   "source": [
    "## removed string type data\n",
    "X_train.drop('v228b', inplace=True, axis=1) \n",
    "X_test.drop('v228b', inplace=True, axis=1) \n",
    "\n",
    "X_train['v228b_r'].fillna(-3, inplace = True)\n",
    "X_test['v228b_r'].fillna(-3, inplace = True)\n",
    "\n",
    "X_train.drop('v231b', inplace=True, axis=1) \n",
    "X_test.drop('v231b', inplace=True, axis=1)\n",
    "\n",
    "X_train['v231b_r'].fillna(-3, inplace = True)\n",
    "X_test['v231b_r'].fillna(-3, inplace = True)\n",
    "\n",
    "X_train.drop('v233b', inplace=True, axis=1)\n",
    "X_test.drop('v233b', inplace=True, axis=1)\n",
    "\n",
    "X_train['v233b_r'].fillna(-3, inplace = True)\n",
    "X_test['v233b_r'].fillna(-3, inplace = True)\n",
    "\n",
    "X_train.drop('v251b', inplace=True, axis=1)\n",
    "X_test.drop('v251b', inplace=True, axis=1) \n",
    "\n",
    "X_train['v251b_r'].fillna(-3, inplace = True)\n",
    "X_test['v251b_r'].fillna(-3, inplace = True)\n",
    "\n",
    "X_train.drop('f252_edulvlb_CH', inplace=True, axis=1)\n",
    "X_test.drop('f252_edulvlb_CH', inplace=True, axis=1)\n",
    "\n",
    "## removed the column having 'DE'\n",
    "X_train.drop(list(X_train.filter(regex='DE')), axis=1, inplace=True)\n",
    "X_test.drop(list(X_test.filter(regex='DE')), axis=1, inplace=True)\n",
    "\n",
    "## removed the column having 'GB'\n",
    "X_train.drop(list(X_train.filter(regex='GB')), axis=1, inplace=True)\n",
    "X_test.drop(list(X_test.filter(regex='GB')), axis=1, inplace=True)\n",
    "\n",
    "X_train.drop('v281a', inplace=True, axis=1)\n",
    "X_test.drop('v281a', inplace=True, axis=1)"
   ],
   "metadata": {
    "collapsed": false,
    "ExecuteTime": {
     "end_time": "2024-03-23T18:33:21.443212Z",
     "start_time": "2024-03-23T18:33:20.967422Z"
    }
   },
   "id": "74a294a5eb2c211d",
   "execution_count": 29
  },
  {
   "cell_type": "markdown",
   "source": [
    "# Simple Model Run"
   ],
   "metadata": {
    "collapsed": false
   },
   "id": "92646daeb6719b84"
  },
  {
   "cell_type": "code",
   "outputs": [
    {
     "ename": "ValueError",
     "evalue": "DataFrame.dtypes for data must be int, float, bool or category. When categorical type is supplied, The experimental DMatrix parameter`enable_categorical` must be set to `True`.  Invalid columns:v275b_N2: object, v275b_N1: object",
     "output_type": "error",
     "traceback": [
      "\u001B[1;31m---------------------------------------------------------------------------\u001B[0m",
      "\u001B[1;31mValueError\u001B[0m                                Traceback (most recent call last)",
      "Cell \u001B[1;32mIn[30], line 2\u001B[0m\n\u001B[0;32m      1\u001B[0m \u001B[38;5;66;03m# Prepare the DMatrix \u001B[39;00m\n\u001B[1;32m----> 2\u001B[0m dtrain \u001B[38;5;241m=\u001B[39m \u001B[43mxgb\u001B[49m\u001B[38;5;241;43m.\u001B[39;49m\u001B[43mDMatrix\u001B[49m\u001B[43m(\u001B[49m\u001B[43mX_train\u001B[49m\u001B[43m,\u001B[49m\u001B[43m \u001B[49m\u001B[43mlabel\u001B[49m\u001B[38;5;241;43m=\u001B[39;49m\u001B[43my_train\u001B[49m\u001B[43m)\u001B[49m\n\u001B[0;32m      3\u001B[0m dtest \u001B[38;5;241m=\u001B[39m xgb\u001B[38;5;241m.\u001B[39mDMatrix(X_test)\n\u001B[0;32m      5\u001B[0m \u001B[38;5;66;03m# Set XGBoost parameters \u001B[39;00m\n",
      "File \u001B[1;32m~\\AppData\\Local\\Programs\\Python\\Python310\\lib\\site-packages\\xgboost\\core.py:730\u001B[0m, in \u001B[0;36mrequire_keyword_args.<locals>.throw_if.<locals>.inner_f\u001B[1;34m(*args, **kwargs)\u001B[0m\n\u001B[0;32m    728\u001B[0m \u001B[38;5;28;01mfor\u001B[39;00m k, arg \u001B[38;5;129;01min\u001B[39;00m \u001B[38;5;28mzip\u001B[39m(sig\u001B[38;5;241m.\u001B[39mparameters, args):\n\u001B[0;32m    729\u001B[0m     kwargs[k] \u001B[38;5;241m=\u001B[39m arg\n\u001B[1;32m--> 730\u001B[0m \u001B[38;5;28;01mreturn\u001B[39;00m func(\u001B[38;5;241m*\u001B[39m\u001B[38;5;241m*\u001B[39mkwargs)\n",
      "File \u001B[1;32m~\\AppData\\Local\\Programs\\Python\\Python310\\lib\\site-packages\\xgboost\\core.py:857\u001B[0m, in \u001B[0;36mDMatrix.__init__\u001B[1;34m(self, data, label, weight, base_margin, missing, silent, feature_names, feature_types, nthread, group, qid, label_lower_bound, label_upper_bound, feature_weights, enable_categorical, data_split_mode)\u001B[0m\n\u001B[0;32m    854\u001B[0m     \u001B[38;5;28;01massert\u001B[39;00m \u001B[38;5;28mself\u001B[39m\u001B[38;5;241m.\u001B[39mhandle \u001B[38;5;129;01mis\u001B[39;00m \u001B[38;5;129;01mnot\u001B[39;00m \u001B[38;5;28;01mNone\u001B[39;00m\n\u001B[0;32m    855\u001B[0m     \u001B[38;5;28;01mreturn\u001B[39;00m\n\u001B[1;32m--> 857\u001B[0m handle, feature_names, feature_types \u001B[38;5;241m=\u001B[39m \u001B[43mdispatch_data_backend\u001B[49m\u001B[43m(\u001B[49m\n\u001B[0;32m    858\u001B[0m \u001B[43m    \u001B[49m\u001B[43mdata\u001B[49m\u001B[43m,\u001B[49m\n\u001B[0;32m    859\u001B[0m \u001B[43m    \u001B[49m\u001B[43mmissing\u001B[49m\u001B[38;5;241;43m=\u001B[39;49m\u001B[38;5;28;43mself\u001B[39;49m\u001B[38;5;241;43m.\u001B[39;49m\u001B[43mmissing\u001B[49m\u001B[43m,\u001B[49m\n\u001B[0;32m    860\u001B[0m \u001B[43m    \u001B[49m\u001B[43mthreads\u001B[49m\u001B[38;5;241;43m=\u001B[39;49m\u001B[38;5;28;43mself\u001B[39;49m\u001B[38;5;241;43m.\u001B[39;49m\u001B[43mnthread\u001B[49m\u001B[43m,\u001B[49m\n\u001B[0;32m    861\u001B[0m \u001B[43m    \u001B[49m\u001B[43mfeature_names\u001B[49m\u001B[38;5;241;43m=\u001B[39;49m\u001B[43mfeature_names\u001B[49m\u001B[43m,\u001B[49m\n\u001B[0;32m    862\u001B[0m \u001B[43m    \u001B[49m\u001B[43mfeature_types\u001B[49m\u001B[38;5;241;43m=\u001B[39;49m\u001B[43mfeature_types\u001B[49m\u001B[43m,\u001B[49m\n\u001B[0;32m    863\u001B[0m \u001B[43m    \u001B[49m\u001B[43menable_categorical\u001B[49m\u001B[38;5;241;43m=\u001B[39;49m\u001B[43menable_categorical\u001B[49m\u001B[43m,\u001B[49m\n\u001B[0;32m    864\u001B[0m \u001B[43m    \u001B[49m\u001B[43mdata_split_mode\u001B[49m\u001B[38;5;241;43m=\u001B[39;49m\u001B[43mdata_split_mode\u001B[49m\u001B[43m,\u001B[49m\n\u001B[0;32m    865\u001B[0m \u001B[43m\u001B[49m\u001B[43m)\u001B[49m\n\u001B[0;32m    866\u001B[0m \u001B[38;5;28;01massert\u001B[39;00m handle \u001B[38;5;129;01mis\u001B[39;00m \u001B[38;5;129;01mnot\u001B[39;00m \u001B[38;5;28;01mNone\u001B[39;00m\n\u001B[0;32m    867\u001B[0m \u001B[38;5;28mself\u001B[39m\u001B[38;5;241m.\u001B[39mhandle \u001B[38;5;241m=\u001B[39m handle\n",
      "File \u001B[1;32m~\\AppData\\Local\\Programs\\Python\\Python310\\lib\\site-packages\\xgboost\\data.py:1089\u001B[0m, in \u001B[0;36mdispatch_data_backend\u001B[1;34m(data, missing, threads, feature_names, feature_types, enable_categorical, data_split_mode)\u001B[0m\n\u001B[0;32m   1087\u001B[0m     data \u001B[38;5;241m=\u001B[39m pd\u001B[38;5;241m.\u001B[39mDataFrame(data)\n\u001B[0;32m   1088\u001B[0m \u001B[38;5;28;01mif\u001B[39;00m _is_pandas_df(data):\n\u001B[1;32m-> 1089\u001B[0m     \u001B[38;5;28;01mreturn\u001B[39;00m \u001B[43m_from_pandas_df\u001B[49m\u001B[43m(\u001B[49m\n\u001B[0;32m   1090\u001B[0m \u001B[43m        \u001B[49m\u001B[43mdata\u001B[49m\u001B[43m,\u001B[49m\u001B[43m \u001B[49m\u001B[43menable_categorical\u001B[49m\u001B[43m,\u001B[49m\u001B[43m \u001B[49m\u001B[43mmissing\u001B[49m\u001B[43m,\u001B[49m\u001B[43m \u001B[49m\u001B[43mthreads\u001B[49m\u001B[43m,\u001B[49m\u001B[43m \u001B[49m\u001B[43mfeature_names\u001B[49m\u001B[43m,\u001B[49m\u001B[43m \u001B[49m\u001B[43mfeature_types\u001B[49m\n\u001B[0;32m   1091\u001B[0m \u001B[43m    \u001B[49m\u001B[43m)\u001B[49m\n\u001B[0;32m   1092\u001B[0m \u001B[38;5;28;01mif\u001B[39;00m _is_cudf_df(data) \u001B[38;5;129;01mor\u001B[39;00m _is_cudf_ser(data):\n\u001B[0;32m   1093\u001B[0m     \u001B[38;5;28;01mreturn\u001B[39;00m _from_cudf_df(\n\u001B[0;32m   1094\u001B[0m         data, missing, threads, feature_names, feature_types, enable_categorical\n\u001B[0;32m   1095\u001B[0m     )\n",
      "File \u001B[1;32m~\\AppData\\Local\\Programs\\Python\\Python310\\lib\\site-packages\\xgboost\\data.py:522\u001B[0m, in \u001B[0;36m_from_pandas_df\u001B[1;34m(data, enable_categorical, missing, nthread, feature_names, feature_types)\u001B[0m\n\u001B[0;32m    514\u001B[0m \u001B[38;5;28;01mdef\u001B[39;00m \u001B[38;5;21m_from_pandas_df\u001B[39m(\n\u001B[0;32m    515\u001B[0m     data: DataFrame,\n\u001B[0;32m    516\u001B[0m     enable_categorical: \u001B[38;5;28mbool\u001B[39m,\n\u001B[1;32m   (...)\u001B[0m\n\u001B[0;32m    520\u001B[0m     feature_types: Optional[FeatureTypes],\n\u001B[0;32m    521\u001B[0m ) \u001B[38;5;241m-\u001B[39m\u001B[38;5;241m>\u001B[39m DispatchedDataBackendReturnType:\n\u001B[1;32m--> 522\u001B[0m     data, feature_names, feature_types \u001B[38;5;241m=\u001B[39m \u001B[43m_transform_pandas_df\u001B[49m\u001B[43m(\u001B[49m\n\u001B[0;32m    523\u001B[0m \u001B[43m        \u001B[49m\u001B[43mdata\u001B[49m\u001B[43m,\u001B[49m\u001B[43m \u001B[49m\u001B[43menable_categorical\u001B[49m\u001B[43m,\u001B[49m\u001B[43m \u001B[49m\u001B[43mfeature_names\u001B[49m\u001B[43m,\u001B[49m\u001B[43m \u001B[49m\u001B[43mfeature_types\u001B[49m\n\u001B[0;32m    524\u001B[0m \u001B[43m    \u001B[49m\u001B[43m)\u001B[49m\n\u001B[0;32m    525\u001B[0m     \u001B[38;5;28;01mreturn\u001B[39;00m _from_numpy_array(data, missing, nthread, feature_names, feature_types)\n",
      "File \u001B[1;32m~\\AppData\\Local\\Programs\\Python\\Python310\\lib\\site-packages\\xgboost\\data.py:490\u001B[0m, in \u001B[0;36m_transform_pandas_df\u001B[1;34m(data, enable_categorical, feature_names, feature_types, meta, meta_type)\u001B[0m\n\u001B[0;32m    483\u001B[0m \u001B[38;5;28;01mfor\u001B[39;00m dtype \u001B[38;5;129;01min\u001B[39;00m data\u001B[38;5;241m.\u001B[39mdtypes:\n\u001B[0;32m    484\u001B[0m     \u001B[38;5;28;01mif\u001B[39;00m \u001B[38;5;129;01mnot\u001B[39;00m (\n\u001B[0;32m    485\u001B[0m         (dtype\u001B[38;5;241m.\u001B[39mname \u001B[38;5;129;01min\u001B[39;00m _pandas_dtype_mapper)\n\u001B[0;32m    486\u001B[0m         \u001B[38;5;129;01mor\u001B[39;00m is_pd_sparse_dtype(dtype)\n\u001B[0;32m    487\u001B[0m         \u001B[38;5;129;01mor\u001B[39;00m (is_pd_cat_dtype(dtype) \u001B[38;5;129;01mand\u001B[39;00m enable_categorical)\n\u001B[0;32m    488\u001B[0m         \u001B[38;5;129;01mor\u001B[39;00m is_pa_ext_dtype(dtype)\n\u001B[0;32m    489\u001B[0m     ):\n\u001B[1;32m--> 490\u001B[0m         \u001B[43m_invalid_dataframe_dtype\u001B[49m\u001B[43m(\u001B[49m\u001B[43mdata\u001B[49m\u001B[43m)\u001B[49m\n\u001B[0;32m    491\u001B[0m     \u001B[38;5;28;01mif\u001B[39;00m is_pa_ext_dtype(dtype):\n\u001B[0;32m    492\u001B[0m         pyarrow_extension \u001B[38;5;241m=\u001B[39m \u001B[38;5;28;01mTrue\u001B[39;00m\n",
      "File \u001B[1;32m~\\AppData\\Local\\Programs\\Python\\Python310\\lib\\site-packages\\xgboost\\data.py:308\u001B[0m, in \u001B[0;36m_invalid_dataframe_dtype\u001B[1;34m(data)\u001B[0m\n\u001B[0;32m    306\u001B[0m type_err \u001B[38;5;241m=\u001B[39m \u001B[38;5;124m\"\u001B[39m\u001B[38;5;124mDataFrame.dtypes for data must be int, float, bool or category.\u001B[39m\u001B[38;5;124m\"\u001B[39m\n\u001B[0;32m    307\u001B[0m msg \u001B[38;5;241m=\u001B[39m \u001B[38;5;124mf\u001B[39m\u001B[38;5;124m\"\"\"\u001B[39m\u001B[38;5;132;01m{\u001B[39;00mtype_err\u001B[38;5;132;01m}\u001B[39;00m\u001B[38;5;124m \u001B[39m\u001B[38;5;132;01m{\u001B[39;00m_ENABLE_CAT_ERR\u001B[38;5;132;01m}\u001B[39;00m\u001B[38;5;124m \u001B[39m\u001B[38;5;132;01m{\u001B[39;00merr\u001B[38;5;132;01m}\u001B[39;00m\u001B[38;5;124m\"\"\"\u001B[39m\n\u001B[1;32m--> 308\u001B[0m \u001B[38;5;28;01mraise\u001B[39;00m \u001B[38;5;167;01mValueError\u001B[39;00m(msg)\n",
      "\u001B[1;31mValueError\u001B[0m: DataFrame.dtypes for data must be int, float, bool or category. When categorical type is supplied, The experimental DMatrix parameter`enable_categorical` must be set to `True`.  Invalid columns:v275b_N2: object, v275b_N1: object"
     ]
    }
   ],
   "source": [
    "# Prepare the DMatrix \n",
    "dtrain = xgb.DMatrix(X_train, label=y_train)\n",
    "dtest = xgb.DMatrix(X_test)\n",
    "\n",
    "# Set XGBoost parameters \n",
    "params = {\n",
    "    'max_depth': 6,\n",
    "    'eta': 0.01,\n",
    "    'objective': 'multi:softprob',\n",
    "    'num_class': 5,  # We have 5 classes: -1, 1, 2, 3, 4\n",
    "    'eval_metric': 'mlogloss',\n",
    "}\n",
    "num_boost_round = 400  # Number of boosting rounds\n",
    "\n",
    "bst = xgb.train(params, dtrain, num_boost_round)\n",
    "y_test_probs = bst.predict(dtest)\n",
    "\n",
    "class_order = [-1, 1, 2, 3, 4]\n",
    "class_mapping = {class_label: f\"Class_{class_label}\" for class_label in class_order}\n",
    "\n",
    "submission_df = pd.DataFrame(y_test_probs, columns=class_mapping.values())\n",
    "submission_df.columns = ['no answer', 'very important', 'quite important', 'not important', 'not at all important']\n",
    "submission_df.insert(0, 'id', X_test.index)\n",
    "\n",
    "# Save the submission file\n",
    "submission_file = 'submission.csv'\n",
    "submission_df.to_csv(submission_file, index=False)"
   ],
   "metadata": {
    "collapsed": false,
    "ExecuteTime": {
     "end_time": "2024-03-23T18:33:21.535425Z",
     "start_time": "2024-03-23T18:33:21.445647Z"
    }
   },
   "id": "4b5f857816dd28aa",
   "execution_count": 30
  }
 ],
 "metadata": {
  "kernelspec": {
   "display_name": "Python 3",
   "language": "python",
   "name": "python3"
  },
  "language_info": {
   "codemirror_mode": {
    "name": "ipython",
    "version": 2
   },
   "file_extension": ".py",
   "mimetype": "text/x-python",
   "name": "python",
   "nbconvert_exporter": "python",
   "pygments_lexer": "ipython2",
   "version": "2.7.6"
  }
 },
 "nbformat": 4,
 "nbformat_minor": 5
}
