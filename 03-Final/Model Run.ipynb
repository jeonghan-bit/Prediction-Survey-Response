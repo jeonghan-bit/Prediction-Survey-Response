{
 "cells": [
  {
   "cell_type": "code",
   "execution_count": 1,
   "id": "initial_id",
   "metadata": {
    "ExecuteTime": {
     "end_time": "2024-03-27T18:05:09.052559Z",
     "start_time": "2024-03-27T18:05:06.992812Z"
    },
    "collapsed": true
   },
   "outputs": [],
   "source": [
    "# # Import packages\n",
    "import pandas as pd\n",
    "import numpy as np\n",
    "import matplotlib.pyplot as plt\n",
    "import seaborn as sns\n",
    "import xgboost as xgb\n",
    "from EDA_script import *\n",
    "# # Set options\n",
    "# pd.options.display.max_rows = 999\n",
    "# pd.options.display.max_columns = 999\n",
    "\n",
    "# train_x_raw = pd.read_csv(\"../01-Data/X_train.csv\", low_memory = True, index_col=0)\n",
    "# train_y_raw = pd.read_csv(\"../01-Data/y_train.csv\", low_memory = True, index_col=0)\n",
    "# test_x_raw = pd.read_csv(\"../01-Data/X_test.csv\", low_memory=True, index_col=0)\n",
    "\n",
    "# df_train = pd.DataFrame(train_x_raw)\n",
    "# df_test = pd.DataFrame(test_x_raw)\n",
    "# df_y = pd.DataFrame(train_y_raw)"
   ]
  },
  {
   "cell_type": "markdown",
   "id": "92646daeb6719b84",
   "metadata": {
    "collapsed": false
   },
   "source": [
    "# Simple Model Run\n",
    "##  xgBoost model set up"
   ]
  },
  {
   "cell_type": "code",
   "execution_count": 2,
   "id": "5fbfcd048b55d241",
   "metadata": {
    "ExecuteTime": {
     "end_time": "2024-03-27T18:05:10.537531Z",
     "start_time": "2024-03-27T18:05:09.758625Z"
    },
    "collapsed": false
   },
   "outputs": [],
   "source": [
    "from sklearn.metrics import log_loss\n",
    "\n",
    "label_mapping = {-1: 0, 1: 1, 2: 2, 3: 3, 4: 4}\n",
    "df_y = df_y.replace(label_mapping)\n",
    "\n",
    "dtrain = xgb.DMatrix(df_train, label=df_y, enable_categorical=True)\n",
    "dtest = xgb.DMatrix(df_test, enable_categorical=True)\n",
    "\n",
    "params = {\n",
    "    'max_depth': 6,\n",
    "    'eta': 0.01,\n",
    "    'objective': 'multi:softprob',\n",
    "    'num_class': 5,\n",
    "    'eval_metric': 'mlogloss',\n",
    "}\n",
    "\n",
    "num_boost_round = 500"
   ]
  },
  {
   "cell_type": "markdown",
   "id": "781c354c",
   "metadata": {},
   "source": [
    "## Xgboost Model GridSearchCV"
   ]
  },
  {
   "cell_type": "code",
   "execution_count": null,
   "id": "c2c65d93",
   "metadata": {},
   "outputs": [],
   "source": [
    "import pandas as pd\n",
    "import xgboost as xgb\n",
    "from sklearn.model_selection import GridSearchCV\n",
    "from sklearn.metrics import log_loss\n",
    "from xgboost.sklearn import XGBClassifier\n",
    "\n",
    "# Assume df_train, df_test, and df_y are already defined and preprocessed\n",
    "# as per your setup\n",
    "\n",
    "# Define the parameter grid to search\n",
    "param_grid = {\n",
    "    'max_depth': [4, 6],\n",
    "    'learning_rate': [0.01, 0.1],\n",
    "    'n_estimators': [100, 1000],\n",
    "    'subsample': [1],\n",
    "    'colsample_bytree': [1],\n",
    "}\n",
    "\n",
    "# Instantiate the XGBClassifier (note: use objective 'multi:softprob' for multi-class)\n",
    "xgb_model = XGBClassifier(objective='multi:softprob', num_class=5, eval_metric='mlogloss', use_label_encoder=False)\n",
    "\n",
    "# Set up GridSearchCV\n",
    "grid_search = GridSearchCV(estimator=xgb_model, param_grid=param_grid, scoring='neg_log_loss', n_jobs=-1, cv=3, verbose=2)\n",
    "\n",
    "# Fit the GridSearchCV object to find the best parameters\n",
    "grid_search.fit(df_train, df_y)\n",
    "\n",
    "# Best parameter set found\n",
    "print(\"Best parameters found: \", grid_search.best_params_)\n",
    "\n",
    "# Best score\n",
    "print(\"Best score (neg_log_loss): \", grid_search.best_score_)\n",
    "\n",
    "# You can also use the best estimator directly to make predictions\n",
    "# best_estimator = grid_search.best_estimator\n"
   ]
  },
  {
   "cell_type": "markdown",
   "id": "73377ae83e283639",
   "metadata": {
    "collapsed": false
   },
   "source": [
    "## Cross Validation"
   ]
  },
  {
   "cell_type": "code",
   "execution_count": null,
   "id": "ee6d6fdecf41fb2a",
   "metadata": {
    "ExecuteTime": {
     "end_time": "2024-03-27T18:06:42.022458Z",
     "start_time": "2024-03-27T18:05:10.540713Z"
    },
    "collapsed": false
   },
   "outputs": [],
   "source": [
    "from xgboost import cv\n",
    "\n",
    "# params and num_boost_round provided above\n",
    "xgb_cv = cv(dtrain=dtrain, params=params, nfold=10,\n",
    "            num_boost_round=num_boost_round, early_stopping_rounds=10,\n",
    "            metrics=\"mlogloss\", as_pandas=True, seed=123)\n",
    "\n",
    "xgb_cv"
   ]
  },
  {
   "cell_type": "markdown",
   "id": "fcf3eff0c1cff4b",
   "metadata": {
    "collapsed": false
   },
   "source": [
    "## Xgboost Training"
   ]
  },
  {
   "cell_type": "code",
   "execution_count": null,
   "id": "7e33513991df267c",
   "metadata": {
    "ExecuteTime": {
     "end_time": "2024-03-27T18:07:06.878598Z",
     "start_time": "2024-03-27T18:06:42.025685Z"
    },
    "collapsed": false
   },
   "outputs": [],
   "source": [
    "evals_result = {}\n",
    "bst = xgb.train(params, dtrain, num_boost_round, \n",
    "                evals=[(dtrain, 'train')], evals_result=evals_result, \n",
    "                verbose_eval=False)\n",
    "print(f\"Training Multiclass Logarithmic Loss: {evals_result['train']['mlogloss'][-1]}\")\n",
    "\n",
    "y_test_probs = bst.predict(dtest)\n",
    "\n",
    "class_order = [0, 1, 2, 3, 4]\n",
    "class_mapping = {class_label: f\"Class_{class_label}\" for class_label in class_order}\n",
    "\n",
    "y_train_probs = bst.predict(dtrain)\n",
    "val_log_loss = log_loss(df_y, y_train_probs, labels=class_order)\n",
    "print(f\"Validation Multiclass Logarithmic Loss: {val_log_loss}\")"
   ]
  },
  {
   "cell_type": "markdown",
   "id": "1527521c5801211",
   "metadata": {
    "collapsed": false
   },
   "source": [
    "## Generate Submission csv"
   ]
  },
  {
   "cell_type": "code",
   "execution_count": null,
   "id": "5ae6668498e2687f",
   "metadata": {
    "ExecuteTime": {
     "end_time": "2024-03-27T18:07:06.910218Z",
     "start_time": "2024-03-27T18:07:06.882783Z"
    },
    "collapsed": false
   },
   "outputs": [],
   "source": [
    "submission_df = pd.DataFrame(y_test_probs, columns=class_mapping.values())\n",
    "submission_df.columns = ['no answer', 'very important', 'quite important', 'not important', 'not at all important']\n",
    "submission_df.insert(0, 'id', df_test.index)\n",
    "\n",
    "# Save the submission file\n",
    "# submission_file = ('submission.csv')\n",
    "# submission_df.to_csv(submission_file, index=False)"
   ]
  }
 ],
 "metadata": {
  "kernelspec": {
   "display_name": "Python 3",
   "language": "python",
   "name": "python3"
  },
  "language_info": {
   "codemirror_mode": {
    "name": "ipython",
    "version": 3
   },
   "file_extension": ".py",
   "mimetype": "text/x-python",
   "name": "python",
   "nbconvert_exporter": "python",
   "pygments_lexer": "ipython3",
   "version": "3.10.12"
  }
 },
 "nbformat": 4,
 "nbformat_minor": 5
}
