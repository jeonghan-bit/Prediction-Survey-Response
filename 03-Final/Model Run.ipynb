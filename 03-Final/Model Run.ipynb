{
 "cells": [
  {
   "cell_type": "code",
   "execution_count": 83,
   "id": "initial_id",
   "metadata": {
    "collapsed": true,
    "ExecuteTime": {
     "end_time": "2024-03-27T17:28:10.583531Z",
     "start_time": "2024-03-27T17:28:08.769948Z"
    }
   },
   "outputs": [],
   "source": [
    "# Import packages\n",
    "import pandas as pd\n",
    "import numpy as np\n",
    "import os\n",
    "import matplotlib.pyplot as plt\n",
    "import seaborn as sns\n",
    "import xgboost as xgb\n",
    "\n",
    "# Set options\n",
    "pd.options.display.max_rows = 999\n",
    "pd.options.display.max_columns = 999\n",
    "\n",
    "train_x_raw = pd.read_csv(\"../01-Data/X_train.csv\", low_memory = True, index_col=0)\n",
    "train_y_raw = pd.read_csv(\"../01-Data/y_train.csv\", low_memory = True, index_col=0)\n",
    "test_x_raw = pd.read_csv(\"../01-Data/X_test.csv\", low_memory=True, index_col=0)\n",
    "\n",
    "df_train = pd.DataFrame(train_x_raw)\n",
    "df_test = pd.DataFrame(test_x_raw)\n",
    "df_y = pd.DataFrame(train_y_raw)"
   ]
  },
  {
   "cell_type": "markdown",
   "id": "25c05a8884dfda7f",
   "metadata": {
    "collapsed": false
   },
   "source": [
    "Add all of the preprocessing below"
   ]
  },
  {
   "cell_type": "markdown",
   "id": "39710aab3026879d",
   "metadata": {
    "collapsed": false
   },
   "source": [
    "## Variable 1 - 146 Preprocessing"
   ]
  },
  {
   "cell_type": "code",
   "execution_count": 84,
   "id": "d335519eab176102",
   "metadata": {
    "collapsed": false,
    "ExecuteTime": {
     "end_time": "2024-03-27T17:28:12.817797Z",
     "start_time": "2024-03-27T17:28:12.750441Z"
    }
   },
   "outputs": [],
   "source": [
    "columns_to_drop = ['c_abrv', 'f46_IT', 'v72_DE', 'v73_DE', 'v74_DE', 'v75_DE', 'v76_DE', 'v77_DE', 'v78_DE', 'v79_DE']\n",
    "df_train.drop(columns=columns_to_drop, inplace=True)\n",
    "df_test.drop(columns=columns_to_drop, inplace=True)"
   ]
  },
  {
   "cell_type": "markdown",
   "id": "72ef956e35e6f124",
   "metadata": {
    "collapsed": false
   },
   "source": [
    "## Variable 147 - 292 Preprocessing "
   ]
  },
  {
   "cell_type": "code",
   "execution_count": 85,
   "id": "f908a39187ffa8bf",
   "metadata": {
    "collapsed": false,
    "ExecuteTime": {
     "end_time": "2024-03-27T17:28:14.953664Z",
     "start_time": "2024-03-27T17:28:14.938708Z"
    }
   },
   "outputs": [
    {
     "name": "stdout",
     "output_type": "stream",
     "text": [
      "['v30c', 'v45c', 'v133_11c', 'v134_11c', 'v135_11c', 'v136_11c', 'v137_11c', 'v138_11c', 'v139_11c', 'v140_11c', 'v141_11c']\n",
      "['age_r', 'v228b_r', 'v231b_r', 'v233b_r', 'v239_r', 'v242_r', 'v243_r', 'v251b_r', 'v252_r', 'v261_r', 'v262_r', 'v263_r', 'v276_r', 'v278c_r', 'v279c_r', 'v279d_r', 'v281a_r']\n"
     ]
    }
   ],
   "source": [
    "### Function to find the targeted colname\n",
    "def find_colname(data, target):\n",
    "    temp = []\n",
    "    for varname in data.columns:\n",
    "        if varname.endswith(target):\n",
    "            temp.append(varname)\n",
    "    return(temp)\n",
    "\n",
    "merge_colname = find_colname(train_x_raw, '_11c')\n",
    "print(find_colname(train_x_raw, 'c'))\n",
    "print(find_colname(train_x_raw, '_r'))\n",
    "\n",
    "def merge_columns(dat, colname):\n",
    "    for name in colname:\n",
    "        name_org = name.replace(\"_11c\", \"\")\n",
    "        dat.loc[dat[name_org] == -4, name_org] = dat.loc[dat[name_org] == -4, name]"
   ]
  },
  {
   "cell_type": "markdown",
   "id": "2d251374774258cc",
   "metadata": {
    "collapsed": false
   },
   "source": [
    "## Variable 293 - 438 Preprocessing"
   ]
  },
  {
   "cell_type": "code",
   "execution_count": 86,
   "id": "74a294a5eb2c211d",
   "metadata": {
    "collapsed": false,
    "ExecuteTime": {
     "end_time": "2024-03-27T17:28:17.797260Z",
     "start_time": "2024-03-27T17:28:16.918574Z"
    }
   },
   "outputs": [],
   "source": [
    "## removed string type data\n",
    "df_train.drop('v228b', inplace=True, axis=1) \n",
    "df_test.drop('v228b', inplace=True, axis=1) \n",
    "\n",
    "df_train.fillna({'v228b_r': -3}, inplace=True)\n",
    "df_test.fillna({'v228b_r': -3}, inplace=True)\n",
    "\n",
    "df_train.drop('v231b', inplace=True, axis=1) \n",
    "df_test.drop('v231b', inplace=True, axis=1)\n",
    "\n",
    "df_train.fillna({'v231b_r': -3}, inplace=True)\n",
    "df_test.fillna({'v231b_r': -3}, inplace=True)\n",
    "\n",
    "df_train.drop('v233b', inplace=True, axis=1)\n",
    "df_test.drop('v233b', inplace=True, axis=1)\n",
    "\n",
    "df_train.fillna({'v233b_r': -3}, inplace=True)\n",
    "df_test.fillna({'v233b_r': -3}, inplace=True)\n",
    "\n",
    "df_train.drop('v251b', inplace=True, axis=1)\n",
    "df_test.drop('v251b', inplace=True, axis=1) \n",
    "\n",
    "df_train.fillna({'v251b_r': -3}, inplace=True)\n",
    "df_test.fillna({'v251b_r': -3}, inplace=True)\n",
    "\n",
    "df_train.drop('f252_edulvlb_CH', inplace=True, axis=1)\n",
    "df_test.drop('f252_edulvlb_CH', inplace=True, axis=1)\n",
    "\n",
    "## removed the column having 'DE'\n",
    "df_train.drop(list(df_train.filter(regex='DE')), axis=1, inplace=True)\n",
    "df_test.drop(list(df_test.filter(regex='DE')), axis=1, inplace=True)\n",
    "\n",
    "## removed the column having 'GB'\n",
    "df_train.drop(list(df_train.filter(regex='GB')), axis=1, inplace=True)\n",
    "df_test.drop(list(df_test.filter(regex='GB')), axis=1, inplace=True)\n",
    "\n",
    "df_train.drop('v281a', inplace=True, axis=1)\n",
    "df_test.drop('v281a', inplace=True, axis=1)\n",
    "\n",
    "df_train.drop('v275b_N2', inplace=True, axis=1) \n",
    "df_test.drop('v275b_N2', inplace=True, axis=1) \n",
    "\n",
    "df_train.drop('v275b_N1', inplace=True, axis=1) \n",
    "df_test.drop('v275b_N1', inplace=True, axis=1) "
   ]
  },
  {
   "cell_type": "markdown",
   "id": "92646daeb6719b84",
   "metadata": {
    "collapsed": false
   },
   "source": [
    "# Simple Model Run\n",
    "##  xgBoost model set up"
   ]
  },
  {
   "cell_type": "code",
   "outputs": [
    {
     "name": "stdout",
     "output_type": "stream",
     "text": [
      "Training Multiclass Logarithmic Loss: 0.722899257861233\n",
      "Validation Multiclass Logarithmic Loss: 0.7228992467410894\n"
     ]
    }
   ],
   "source": [
    "import pandas as pd\n",
    "import xgboost as xgb\n",
    "from sklearn.metrics import log_loss\n",
    "\n",
    "label_mapping = {-1: 0, 1: 1, 2: 2, 3: 3, 4: 4}\n",
    "df_y = df_y.replace(label_mapping)\n",
    "\n",
    "dtrain = xgb.DMatrix(df_train, label=df_y, enable_categorical=True)\n",
    "dtest = xgb.DMatrix(df_test, enable_categorical=True)\n",
    "\n",
    "params = {\n",
    "    'max_depth': 6,\n",
    "    'eta': 0.01,\n",
    "    'objective': 'multi:softprob',\n",
    "    'num_class': 5,\n",
    "    'eval_metric': 'mlogloss',\n",
    "}\n",
    "\n",
    "num_boost_round = 700"
   ],
   "metadata": {
    "collapsed": false,
    "ExecuteTime": {
     "end_time": "2024-03-27T17:38:55.225087Z",
     "start_time": "2024-03-27T17:36:33.050945Z"
    }
   },
   "id": "5fbfcd048b55d241",
   "execution_count": 89
  },
  {
   "cell_type": "markdown",
   "source": [
    "## Cross Validation"
   ],
   "metadata": {
    "collapsed": false
   },
   "id": "73377ae83e283639"
  },
  {
   "cell_type": "code",
   "outputs": [],
   "source": [
    "from xgboost import cv\n",
    "\n",
    "# params and num_boost_round provided above\n",
    "xgb_cv = cv(dtrain=dtrain, params=params, nfold=5,\n",
    "                    num_boost_round=num_boost_round, early_stopping_rounds=10,\n",
    "            metrics=\"mlogloss\", as_pandas=True, seed=123)\n",
    "\n",
    "xgb_cv"
   ],
   "metadata": {
    "collapsed": false
   },
   "id": "ee6d6fdecf41fb2a"
  },
  {
   "cell_type": "markdown",
   "source": [
    "## xgboost train"
   ],
   "metadata": {
    "collapsed": false
   },
   "id": "fcf3eff0c1cff4b"
  },
  {
   "cell_type": "code",
   "outputs": [
    {
     "data": {
      "text/plain": "   train-mlogloss-mean  train-mlogloss-std  test-mlogloss-mean  \\\n0             1.600916            0.000046            1.601236   \n1             1.592535            0.000074            1.593170   \n2             1.584288            0.000099            1.585240   \n3             1.576180            0.000126            1.577438   \n4             1.568210            0.000149            1.569779   \n\n   test-mlogloss-std  \n0           0.000044  \n1           0.000085  \n2           0.000130  \n3           0.000171  \n4           0.000216  ",
      "text/html": "<div>\n<style scoped>\n    .dataframe tbody tr th:only-of-type {\n        vertical-align: middle;\n    }\n\n    .dataframe tbody tr th {\n        vertical-align: top;\n    }\n\n    .dataframe thead th {\n        text-align: right;\n    }\n</style>\n<table border=\"1\" class=\"dataframe\">\n  <thead>\n    <tr style=\"text-align: right;\">\n      <th></th>\n      <th>train-mlogloss-mean</th>\n      <th>train-mlogloss-std</th>\n      <th>test-mlogloss-mean</th>\n      <th>test-mlogloss-std</th>\n    </tr>\n  </thead>\n  <tbody>\n    <tr>\n      <th>0</th>\n      <td>1.600916</td>\n      <td>0.000046</td>\n      <td>1.601236</td>\n      <td>0.000044</td>\n    </tr>\n    <tr>\n      <th>1</th>\n      <td>1.592535</td>\n      <td>0.000074</td>\n      <td>1.593170</td>\n      <td>0.000085</td>\n    </tr>\n    <tr>\n      <th>2</th>\n      <td>1.584288</td>\n      <td>0.000099</td>\n      <td>1.585240</td>\n      <td>0.000130</td>\n    </tr>\n    <tr>\n      <th>3</th>\n      <td>1.576180</td>\n      <td>0.000126</td>\n      <td>1.577438</td>\n      <td>0.000171</td>\n    </tr>\n    <tr>\n      <th>4</th>\n      <td>1.568210</td>\n      <td>0.000149</td>\n      <td>1.569779</td>\n      <td>0.000216</td>\n    </tr>\n  </tbody>\n</table>\n</div>"
     },
     "execution_count": 92,
     "metadata": {},
     "output_type": "execute_result"
    }
   ],
   "source": [
    "evals_result = {}\n",
    "bst = xgb.train(params, dtrain, num_boost_round, \n",
    "                evals=[(dtrain, 'train')], evals_result=evals_result, \n",
    "                verbose_eval=False)\n",
    "print(f\"Training Multiclass Logarithmic Loss: {evals_result['train']['mlogloss'][-1]}\")\n",
    "\n",
    "y_test_probs = bst.predict(dtest)\n",
    "\n",
    "class_order = [0, 1, 2, 3, 4]\n",
    "class_mapping = {class_label: f\"Class_{class_label}\" for class_label in class_order}\n",
    "\n",
    "y_train_probs = bst.predict(dtrain)\n",
    "val_log_loss = log_loss(df_y, y_train_probs, labels=class_order)\n",
    "print(f\"Validation Multiclass Logarithmic Loss: {val_log_loss}\")"
   ],
   "metadata": {
    "collapsed": false,
    "ExecuteTime": {
     "end_time": "2024-03-27T17:52:51.116962Z",
     "start_time": "2024-03-27T17:51:07.003686Z"
    }
   },
   "id": "7e33513991df267c",
   "execution_count": 92
  },
  {
   "cell_type": "markdown",
   "source": [
    "## Generate Submission csv"
   ],
   "metadata": {
    "collapsed": false
   },
   "id": "1527521c5801211"
  },
  {
   "cell_type": "code",
   "outputs": [],
   "source": [
    "submission_df = pd.DataFrame(y_test_probs, columns=class_mapping.values())\n",
    "submission_df.columns = ['no answer', 'very important', 'quite important', 'not important', 'not at all important']\n",
    "submission_df.insert(0, 'id', df_test.index)\n",
    "\n",
    "# Save the submission file\n",
    "submission_file = ('amy_submission.csv')\n",
    "submission_df.to_csv(submission_file, index=False)"
   ],
   "metadata": {
    "collapsed": false
   },
   "id": "5ae6668498e2687f"
  }
 ],
 "metadata": {
  "kernelspec": {
   "display_name": "Python 3",
   "language": "python",
   "name": "python3"
  },
  "language_info": {
   "codemirror_mode": {
    "name": "ipython",
    "version": 3
   },
   "file_extension": ".py",
   "mimetype": "text/x-python",
   "name": "python",
   "nbconvert_exporter": "python",
   "pygments_lexer": "ipython3",
   "version": "3.10.13"
  }
 },
 "nbformat": 4,
 "nbformat_minor": 5
}
