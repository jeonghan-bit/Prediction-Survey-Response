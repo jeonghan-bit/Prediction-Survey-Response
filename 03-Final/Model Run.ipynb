{
 "cells": [
  {
   "cell_type": "code",
   "execution_count": null,
   "id": "2bbebe8e",
   "metadata": {},
   "outputs": [],
   "source": [
    "# import"
   ]
  },
  {
   "cell_type": "markdown",
   "id": "92646daeb6719b84",
   "metadata": {
    "collapsed": false
   },
   "source": [
    "# Simple Model Run\n",
    "##  xgBoost"
   ]
  },
  {
   "cell_type": "code",
   "execution_count": 61,
   "id": "5fbfcd048b55d241",
   "metadata": {
    "ExecuteTime": {
     "end_time": "2024-03-26T18:01:56.634051Z",
     "start_time": "2024-03-26T18:00:45.145989Z"
    },
    "collapsed": false
   },
   "outputs": [],
   "source": [
    "import pandas as pd\n",
    "import xgboost as xgb\n",
    "from sklearn.metrics import log_loss\n",
    "from sklearn.model_selection import train_test_split\n",
    "\n",
    "label_mapping = {-1: 0, 1: 1, 2: 2, 3: 3, 4: 4}\n",
    "df_y = df_y.replace(label_mapping)\n",
    "\n",
    "dtrain = xgb.DMatrix(df_train, label=df_y, enable_categorical=True)\n",
    "dtest = xgb.DMatrix(df_test, enable_categorical=True)\n",
    "\n",
    "params = {\n",
    "    'max_depth': 6,\n",
    "    'eta': 0.01,\n",
    "    'objective': 'multi:softprob',\n",
    "    'num_class': 5,\n",
    "    'eval_metric': 'mlogloss',\n",
    "}\n",
    "num_boost_round = 500\n",
    "\n",
    "bst = xgb.train(params, dtrain, num_boost_round)\n",
    "y_test_probs = bst.predict(dtest)\n",
    "\n",
    "# Compute Multiclass Logarithmic Loss\n",
    "#val_log_loss = log_loss(y_val, y_test_probs)\n",
    "#print(f\"Validation Multiclass Logarithmic Loss: {val_log_loss}\")\n",
    "\n",
    "class_order = [0, 1, 2, 3, 4]\n",
    "class_mapping = {class_label: f\"Class_{class_label}\" for class_label in class_order}\n",
    "\n",
    "submission_df = pd.DataFrame(y_test_probs, columns=class_mapping.values())\n",
    "submission_df.columns = ['no answer', 'very important', 'quite important', 'not important', 'not at all important']\n",
    "submission_df.insert(0, 'id', df_test.index)\n",
    "\n",
    "# Save the submission file\n",
    "submission_file = ('submission.csv')\n",
    "submission_df.to_csv(submission_file, index=False)"
   ]
  },
  {
   "cell_type": "markdown",
   "id": "c29cc48e8c64c78a",
   "metadata": {
    "collapsed": false
   },
   "source": []
  },
  {
   "cell_type": "markdown",
   "id": "73377ae83e283639",
   "metadata": {
    "collapsed": false
   },
   "source": []
  }
 ],
 "metadata": {
  "kernelspec": {
   "display_name": "Python 3",
   "language": "python",
   "name": "python3"
  },
  "language_info": {
   "codemirror_mode": {
    "name": "ipython",
    "version": 3
   },
   "file_extension": ".py",
   "mimetype": "text/x-python",
   "name": "python",
   "nbconvert_exporter": "python",
   "pygments_lexer": "ipython3",
   "version": "3.10.13"
  }
 },
 "nbformat": 4,
 "nbformat_minor": 5
}
