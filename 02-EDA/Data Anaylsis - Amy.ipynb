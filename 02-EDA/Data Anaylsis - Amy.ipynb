{
 "cells": [
  {
   "cell_type": "markdown",
   "id": "9b518d56fe216a57",
   "metadata": {
    "collapsed": false
   },
   "source": [
    "# Explanatory Data Analysis"
   ]
  },
  {
   "cell_type": "code",
   "execution_count": 1,
   "id": "0f28a0d7-8dcf-4e09-8efd-c214c6c77a72",
   "metadata": {
    "ExecuteTime": {
     "end_time": "2024-03-26T18:28:19.559584Z",
     "start_time": "2024-03-26T18:28:19.545574Z"
    }
   },
   "outputs": [],
   "source": [
    "# Import packages\n",
    "import pandas as pd\n",
    "import numpy as np\n",
    "import os\n",
    "import matplotlib.pyplot as plt\n",
    "import seaborn as sns\n",
    "\n",
    "# Set options\n",
    "pd.options.display.max_rows = 999\n",
    "pd.options.display.max_columns = 999"
   ]
  },
  {
   "cell_type": "code",
   "execution_count": 2,
   "id": "902b25106bf03b4d",
   "metadata": {
    "ExecuteTime": {
     "end_time": "2024-03-26T18:28:21.039519Z",
     "start_time": "2024-03-26T18:28:19.561574Z"
    },
    "collapsed": false
   },
   "outputs": [],
   "source": [
    "# Import data\n",
    "train_x_raw = pd.read_csv(\"../01-Data/X_train.csv\", low_memory = True, index_col=0)\n",
    "train_y_raw = pd.read_csv(\"../01-Data/y_train.csv\", low_memory = True, index_col=0)\n",
    "test_x_raw = pd.read_csv(\"../01-Data/X_test.csv\", low_memory=True, index_col=0)\n",
    "\n",
    "df_train = pd.DataFrame(train_x_raw)\n",
    "df_test = pd.DataFrame(test_x_raw)\n",
    "df_y = pd.DataFrame(train_y_raw)"
   ]
  },
  {
   "cell_type": "markdown",
   "id": "d6176f824145b027",
   "metadata": {
    "collapsed": false
   },
   "source": [
    "## Analysis of Missing Observations\n"
   ]
  },
  {
   "cell_type": "code",
   "execution_count": 3,
   "id": "1c98f6a66da10b1b",
   "metadata": {
    "ExecuteTime": {
     "end_time": "2024-03-26T18:28:21.101604Z",
     "start_time": "2024-03-26T18:28:21.042524Z"
    },
    "collapsed": false
   },
   "outputs": [
    {
     "name": "stdout",
     "output_type": "stream",
     "text": [
      "Missing values in x_train:\n",
      "Column 'v228b_r': 1\n",
      "Column 'v231b_r': 3\n",
      "Column 'v233b_r': 2\n",
      "Column 'v251b_r': 4\n",
      "\n",
      "Missing values in x_test:\n",
      "Column 'v233b_r': 1\n"
     ]
    }
   ],
   "source": [
    "# x_train\n",
    "missing_values_train = df_train.isnull().sum()\n",
    "print(\"Missing values in x_train:\")\n",
    "for column, count in missing_values_train.items():\n",
    "    if count > 0:\n",
    "        print(f\"Column '{column}': {count}\")\n",
    "\n",
    "# x_test\n",
    "missing_values_test = df_test.isnull().sum()\n",
    "print(\"\\nMissing values in x_test:\")\n",
    "for column, count in missing_values_test.items():\n",
    "    if count > 0:\n",
    "        print(f\"Column '{column}': {count}\")"
   ]
  },
  {
   "cell_type": "markdown",
   "id": "5c75cd88e5066ef",
   "metadata": {
    "collapsed": false
   },
   "source": [
    "No missing values to deal with -- in range of column 1 - 146\n"
   ]
  },
  {
   "cell_type": "code",
   "execution_count": 4,
   "id": "40ec60cc276f05a3",
   "metadata": {
    "ExecuteTime": {
     "end_time": "2024-03-26T18:28:21.132604Z",
     "start_time": "2024-03-26T18:28:21.102519Z"
    },
    "collapsed": false,
    "scrolled": true
   },
   "outputs": [
    {
     "name": "stdout",
     "output_type": "stream",
     "text": [
      "year         int64\n",
      "fw_start     int64\n",
      "fw_end       int64\n",
      "country      int64\n",
      "c_abrv      object\n",
      "v1           int64\n",
      "v2           int64\n",
      "v3           int64\n",
      "v4           int64\n",
      "v5           int64\n",
      "v7           int64\n",
      "v8           int64\n",
      "v9           int64\n",
      "v10          int64\n",
      "v11          int64\n",
      "v12          int64\n",
      "v13          int64\n",
      "v14          int64\n",
      "v15          int64\n",
      "v16          int64\n",
      "v17          int64\n",
      "v18          int64\n",
      "v19          int64\n",
      "f20          int64\n",
      "v20          int64\n",
      "v20a         int64\n",
      "v20b         int64\n",
      "v21          int64\n",
      "v22          int64\n",
      "v23          int64\n",
      "v24          int64\n",
      "f24_IT       int64\n",
      "v24a_IT      int64\n",
      "v24b_IT      int64\n",
      "v25          int64\n",
      "v26          int64\n",
      "v27          int64\n",
      "v28          int64\n",
      "v29          int64\n",
      "v30          int64\n",
      "f30a         int64\n",
      "v30a         int64\n",
      "v30b         int64\n",
      "v30c         int64\n",
      "v31          int64\n",
      "v32          int64\n",
      "v33          int64\n",
      "v34          int64\n",
      "v35          int64\n",
      "v36          int64\n",
      "v37          int64\n",
      "v38          int64\n",
      "v39          int64\n",
      "v40          int64\n",
      "v41          int64\n",
      "v42          int64\n",
      "v43          int64\n",
      "v44          int64\n",
      "v45          int64\n",
      "f45a         int64\n",
      "v45a         int64\n",
      "v45b         int64\n",
      "v45c         int64\n",
      "v46          int64\n",
      "f46_IT       int64\n",
      "v47          int64\n",
      "v48          int64\n",
      "v49          int64\n",
      "v50          int64\n",
      "v51          int64\n",
      "v52          int64\n",
      "v52_cs       int64\n",
      "v53          int64\n",
      "v54          int64\n",
      "v55          int64\n",
      "v56          int64\n",
      "v57          int64\n",
      "v58          int64\n",
      "v59          int64\n",
      "v60          int64\n",
      "v61          int64\n",
      "v62          int64\n",
      "v63          int64\n",
      "v64          int64\n",
      "v65          int64\n",
      "v66          int64\n",
      "v67          int64\n",
      "v68          int64\n",
      "v69          int64\n",
      "v70          int64\n",
      "v71          int64\n",
      "v72          int64\n",
      "v72_DE       int64\n",
      "v73          int64\n",
      "v73_DE       int64\n",
      "v74          int64\n",
      "v74_DE       int64\n",
      "v75          int64\n",
      "v75_DE       int64\n",
      "v76          int64\n",
      "v76_DE       int64\n",
      "v77          int64\n",
      "v77_DE       int64\n",
      "v78          int64\n",
      "v78_DE       int64\n",
      "v79          int64\n",
      "v79_DE       int64\n",
      "v80          int64\n",
      "v81          int64\n",
      "v82          int64\n",
      "v83          int64\n",
      "v84          int64\n",
      "f85          int64\n",
      "v85          int64\n",
      "v86          int64\n",
      "v87          int64\n",
      "v88          int64\n",
      "v89          int64\n",
      "v90          int64\n",
      "v91          int64\n",
      "v92          int64\n",
      "v93          int64\n",
      "v94          int64\n",
      "v95          int64\n",
      "f96          int64\n",
      "v96          int64\n",
      "v96a         int64\n",
      "v96b         int64\n",
      "v97          int64\n",
      "v98          int64\n",
      "v99          int64\n",
      "v100         int64\n",
      "v101         int64\n",
      "v102         int64\n",
      "v103         int64\n",
      "v104         int64\n",
      "v105         int64\n",
      "v106         int64\n",
      "v107         int64\n",
      "f108         int64\n",
      "v108         int64\n",
      "v109         int64\n",
      "f110         int64\n",
      "v110         int64\n",
      "v111         int64\n",
      "v111_4       int64\n",
      "dtype: object\n"
     ]
    }
   ],
   "source": [
    "print(df_train.iloc[:, :146].dtypes)"
   ]
  },
  {
   "cell_type": "markdown",
   "id": "d888b8095ef9c4e3",
   "metadata": {
    "collapsed": false
   },
   "source": [
    "There is one string variable, `c_abrv`. We **drop** this variable as we already have the similar variable, `country`."
   ]
  },
  {
   "cell_type": "code",
   "execution_count": 5,
   "id": "585c169797d5dd1e",
   "metadata": {
    "ExecuteTime": {
     "end_time": "2024-03-26T18:28:21.148518Z",
     "start_time": "2024-03-26T18:28:21.134518Z"
    },
    "collapsed": false
   },
   "outputs": [
    {
     "name": "stdout",
     "output_type": "stream",
     "text": [
      "c_abrv\n",
      "DK    2843\n",
      "CH    2664\n",
      "NL    2000\n",
      "IT    1901\n",
      "GE    1854\n",
      "DE    1817\n",
      "FR    1587\n",
      "RU    1524\n",
      "CZ    1519\n",
      "AZ    1514\n",
      "GB    1491\n",
      "BA    1439\n",
      "AT    1376\n",
      "IS    1357\n",
      "UA    1348\n",
      "RO    1336\n",
      "BG    1302\n",
      "BY    1297\n",
      "HR    1271\n",
      "HU    1260\n",
      "AM    1257\n",
      "RS    1255\n",
      "LT    1222\n",
      "AL    1194\n",
      "SK    1188\n",
      "PL    1137\n",
      "LV    1106\n",
      "EE    1101\n",
      "PT    1022\n",
      "ES    1010\n",
      "FI    1004\n",
      "NO     951\n",
      "MK     940\n",
      "SI     913\n",
      "Name: count, dtype: int64\n"
     ]
    }
   ],
   "source": [
    "# See the values for c_abrv\n",
    "frequency_table = df_train['c_abrv'].value_counts()\n",
    "print(frequency_table)"
   ]
  },
  {
   "cell_type": "markdown",
   "id": "a9772c17bfde2616",
   "metadata": {
    "collapsed": false
   },
   "source": [
    "Out of 145 *numeric* variables, based on the codebook, we classify them into the following groups:\n",
    "\n",
    "\n",
    "drop f46_IT, v72_DE, v73_DE v74_DE, v75_DE, v76_DE v77_DE v78_DE v79_DE\n",
    "\n",
    "1. Typical numeric variables: year, fw_start, fw_end, country\n",
    "2. How important in your life: ___ (importance order): v1, v2, v3, v4, v5\n",
    "3. Misc questions with logical ordinalities: v7, v8, v38, v39, v46, v47, v48, v49, v50, v54, v55, v56, v62, v63, v64, v72, v73, v74, v75, v76, v77, v78, v79, v80, v81, v82, v83, v84, v97, v102, v103, v104, v105, v106, v107\n",
    "4. Misc questions with yes/no: v21, v31, v51, v53, v71\n",
    "5. Do you belong to: ___ (category mentioned / not mentioned): v9, v10, v11, v12, v13, v14, v15, v16, v17, v18, v19\n",
    "**5-1.** Do you belong to - none? f20 (inconsistency), v20, v20a, v20b\n",
    "6. Don't like as neighbours: __ (category mentioned / not mentioned): v22, v23, v25, v26, v27, v28, v29, v30, \n",
    "**6-1.** Don't like as neighbours - immigrants / foreign workers?: v24, f24_IT, v24a_IT, v24b_IT\n",
    "**6-2.** Don't like as neighbours - none/DK: f30a, v30a, v30b, v30c\n",
    "7. How much you trust: __ (category with ordinal responses): v32, v33, v34, v35, v36, v37\n",
    "8. Important in a job: __ (category mentioned / not mentioned): v40, v41, v42, v43, v44, v45\n",
    "**8-1.** Important in a job - none: f45a, v45a, v45b, v45c\n",
    "9. which religious denomination do you belong to : v52, v52_cs\n",
    "10. Do you believe in __ (category yes / no): v57, v58, v59, v60, v61\n",
    "11. Important in marriage: __ (category with ordinal responses): v65, v66, v67, v68, v69, v70\n",
    "12. learn children at home: __ (category mentioned / not mentioned): v85, v86, v87, v88, v89, v90, v91, v92, v93, v94, v95\n",
    "**12-1**. f85: more than five checked --> Keep it as it is. \n",
    "**12-2**. learn children at home - none: f96, v96, v96a, v96b\n",
    "13. Political Action: __ (category with frequencies): v98, v99, v100, v101\n",
    "14. Aims of this country (category): f108, v108, v109\n",
    "15. Aims of respondent: f110, v110, v111, v111_4"
   ]
  },
  {
   "cell_type": "markdown",
   "id": "54a1f65f755a8dad",
   "metadata": {
    "collapsed": false
   },
   "source": [
    "Drop unnecessary columns"
   ]
  },
  {
   "cell_type": "code",
   "execution_count": 6,
   "id": "17c8c0c6fcb486fd",
   "metadata": {
    "ExecuteTime": {
     "end_time": "2024-03-26T18:28:21.211518Z",
     "start_time": "2024-03-26T18:28:21.150531Z"
    },
    "collapsed": false
   },
   "outputs": [],
   "source": [
    "columns_to_drop = ['c_abrv', 'f46_IT', 'v72_DE', 'v73_DE', 'v74_DE', 'v75_DE', 'v76_DE', 'v77_DE', 'v78_DE', 'v79_DE']\n",
    "df_train.drop(columns=columns_to_drop, inplace=True)\n",
    "df_test.drop(columns=columns_to_drop, inplace=True)"
   ]
  },
  {
   "cell_type": "code",
   "execution_count": 10,
   "id": "1c102db3085e6b4e",
   "metadata": {
    "ExecuteTime": {
     "end_time": "2024-03-26T18:33:21.329615Z",
     "start_time": "2024-03-26T18:33:21.314613Z"
    },
    "collapsed": false
   },
   "outputs": [
    {
     "data": {
      "text/plain": [
       "array([80403,    -3,  4005, 72401,  7003, 70301, 35201, 20301, 38001,\n",
       "       75601,  7002,  3101, 20801, 75603, 26803, 64203, 25001, 35204,\n",
       "       82603, 26801, 61601,    -2,   801, 26806, 57801,  4001, 80401,\n",
       "       10001, 25002,  5101, 23307, 44001, 19101, 27605, 64301, 68801,\n",
       "       64316, 11201, 42802, 80701, 27602, 24601, 82602, 27606, 70501,\n",
       "       23302, 42801, 10002,  4026, 27601, 34802, 57808,  7001, 52801,\n",
       "       64304, 80704, 75602, 62001, 80402, 72414, 34803,   804, 70306,\n",
       "          -1, 25005, 34801, 62004, 52802, 42805, 64201, 75604, 42803,\n",
       "       72402, 52803, 80412, 75607, 52806, 82601, 57805, 64209, 82614,\n",
       "       44002, 38006, 57802, 70303, 52807, 70302, 82605, 34808, 24604,\n",
       "       35212,  4021, 11203, 70503, 38004, 52811, 35216, 19103, 35209,\n",
       "         803,  5103, 72416,   802, 20807, 35202, 23301, 34804, 62009,\n",
       "        5116,  4006, 52809, 70505, 20802, 62010, 42806, 20302, 27603,\n",
       "       35218, 24606, 64208, 25008, 57809, 52805, 82606, 26802, 26804,\n",
       "        5102, 35206, 27604, 61602, 75605, 42808, 26807, 75608, 80407,\n",
       "       75616, 20304, 82612, 44003, 10003, 38008, 82611, 25003, 80410,\n",
       "       82617, 61603, 72412,  4015, 64303, 62003, 10030, 24602, 75609,\n",
       "       42816, 11202, 68802, 34815, 25016, 11208, 20310, 57806, 27607,\n",
       "       11210,  4017,  3102, 20303,   813, 82610,  4029, 57803, 34806,\n",
       "       72404, 35205, 20312, 70305,  4024,   805,  5104, 19116, 64202,\n",
       "       20305, 75606, 80404, 35215, 20803, 70304, 38030, 34805, 11204,\n",
       "        4012, 42804, 10004,  4013,  4019, 35203, 80415, 82604, 20308,\n",
       "       24605, 82616, 23303, 20309, 35220, 26808, 11214,  4020, 44016,\n",
       "        3130,  4009, 70504, 82615, 35219,  4002, 44004, 19110, 62006,\n",
       "       19104, 44006, 38002, 19102, 82609, 61604, 38007, 25004, 82613,\n",
       "       35211, 19105,  4025, 64306, 19107, 80408, 68830, 62002, 70510,\n",
       "       23304, 80406, 35207, 72411, 64302, 72403,  3104,  4014,  4007,\n",
       "       61605, 62008, 24610, 25007, 35214, 52804,  4004, 68803, 19106,\n",
       "       70502, 20311, 80405,  7030, 57807,  4016, 35217, 80702, 68807,\n",
       "        5106, 35210, 80706,  4023, 25006, 20306, 72406,  4003, 64205,\n",
       "       82608, 38003, 70508, 19109, 68808, 64216, 64305, 61611, 26809,\n",
       "       70308, 80703, 26816], dtype=int64)"
      ]
     },
     "execution_count": 10,
     "metadata": {},
     "output_type": "execute_result"
    }
   ],
   "source": [
    "df_train['v52_cs'].describe()\n",
    "df_train['v52_cs'].unique()"
   ]
  },
  {
   "cell_type": "markdown",
   "id": "a694eecad97f2109",
   "metadata": {
    "collapsed": false
   },
   "source": [
    "Preprocessing"
   ]
  },
  {
   "cell_type": "code",
   "execution_count": 32,
   "id": "710b7187c52a1cda",
   "metadata": {
    "ExecuteTime": {
     "end_time": "2024-03-26T18:41:40.858075Z",
     "start_time": "2024-03-26T18:41:40.812713Z"
    },
    "collapsed": false
   },
   "outputs": [],
   "source": []
  },
  {
   "cell_type": "code",
   "execution_count": 33,
   "id": "d4f2cd58d406b0bc",
   "metadata": {
    "ExecuteTime": {
     "end_time": "2024-03-26T18:41:41.735Z",
     "start_time": "2024-03-26T18:41:41.717Z"
    },
    "collapsed": false
   },
   "outputs": [
    {
     "data": {
      "text/plain": [
       "count    11438.000000\n",
       "mean     20314.019934\n",
       "std      27604.999792\n",
       "min       -100.000000\n",
       "25%         -3.000000\n",
       "50%         -3.000000\n",
       "75%      38001.000000\n",
       "max      80701.000000\n",
       "Name: v52_cs, dtype: float64"
      ]
     },
     "execution_count": 33,
     "metadata": {},
     "output_type": "execute_result"
    }
   ],
   "source": [
    "transformed_column.describe()\n",
    "transformed_column2.describe()\n",
    "# train + test 합쳐서 해 보기"
   ]
  },
  {
   "cell_type": "code",
   "execution_count": 34,
   "id": "241e5fa4ed439650",
   "metadata": {
    "ExecuteTime": {
     "end_time": "2024-03-26T18:41:45.833920Z",
     "start_time": "2024-03-26T18:41:45.821645Z"
    },
    "collapsed": false
   },
   "outputs": [
    {
     "data": {
      "text/plain": [
       "array([ -100,    -3,  7003, 70301, 35201, 38001, 75601,  3101, 20801,\n",
       "       75603, 64203, 25001, 26801, 61601,   801, 57801,  4001, 10001,\n",
       "        5101, 44001, 19101, 64301, 68801, 11201, 80701, 24601, 70501,\n",
       "       62001], dtype=int64)"
      ]
     },
     "execution_count": 34,
     "metadata": {},
     "output_type": "execute_result"
    }
   ],
   "source": [
    "transformed_column.unique()"
   ]
  }
 ],
 "metadata": {
  "kernelspec": {
   "display_name": "Python 3 (ipykernel)",
   "language": "python",
   "name": "python3"
  },
  "language_info": {
   "codemirror_mode": {
    "name": "ipython",
    "version": 3
   },
   "file_extension": ".py",
   "mimetype": "text/x-python",
   "name": "python",
   "nbconvert_exporter": "python",
   "pygments_lexer": "ipython3",
   "version": "3.10.7"
  }
 },
 "nbformat": 4,
 "nbformat_minor": 5
}
