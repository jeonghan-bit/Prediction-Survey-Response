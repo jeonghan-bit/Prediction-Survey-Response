{
 "cells": [
  {
   "cell_type": "markdown",
   "id": "9b518d56fe216a57",
   "metadata": {
    "collapsed": false
   },
   "source": [
    "# Explanatory Data Analysis"
   ]
  },
  {
   "cell_type": "code",
   "execution_count": 10,
   "id": "0f28a0d7-8dcf-4e09-8efd-c214c6c77a72",
   "metadata": {
    "ExecuteTime": {
     "end_time": "2024-03-19T14:46:17.460816Z",
     "start_time": "2024-03-19T14:46:15.611580Z"
    }
   },
   "outputs": [],
   "source": [
    "import pandas as pd\n",
    "import numpy as np\n",
    "import os\n",
    "import matplotlib.pyplot as plt\n",
    "import seaborn as sns\n",
    "\n",
    "pd.options.display.max_rows = 999\n",
    "pd.options.display.max_columns = 999\n",
    "\n",
    "x_train = pd.read_csv(\"../01-Data/X_train.csv\", index_col=0)\n",
    "x_test = pd.read_csv(\"../01-Data/X_test.csv\", index_col=0)\n",
    "y_train = pd.read_csv(\"../01-Data/y_train.csv\", index_col=0)"
   ]
  },
  {
   "cell_type": "markdown",
   "id": "d6176f824145b027",
   "metadata": {
    "collapsed": false
   },
   "source": [
    "## Analysis of Missing Observations\n"
   ]
  },
  {
   "cell_type": "code",
   "execution_count": 11,
   "id": "1c98f6a66da10b1b",
   "metadata": {
    "collapsed": false,
    "ExecuteTime": {
     "end_time": "2024-03-19T14:46:17.523680Z",
     "start_time": "2024-03-19T14:46:17.462877Z"
    }
   },
   "outputs": [
    {
     "name": "stdout",
     "output_type": "stream",
     "text": [
      "Missing values in x_train:\n",
      "Column 'v228b_r': 1\n",
      "Column 'v231b_r': 3\n",
      "Column 'v233b_r': 2\n",
      "Column 'v251b_r': 4\n",
      "\n",
      "Missing values in x_test:\n",
      "Column 'v233b_r': 1\n"
     ]
    }
   ],
   "source": [
    "# x_train\n",
    "missing_values_train = x_train.isnull().sum()\n",
    "print(\"Missing values in x_train:\")\n",
    "for column, count in missing_values_train.items():\n",
    "    if count > 0:\n",
    "        print(f\"Column '{column}': {count}\")\n",
    "\n",
    "# x_test\n",
    "missing_values_test = x_test.isnull().sum()\n",
    "print(\"\\nMissing values in x_test:\")\n",
    "for column, count in missing_values_test.items():\n",
    "    if count > 0:\n",
    "        print(f\"Column '{column}': {count}\")"
   ]
  },
  {
   "cell_type": "markdown",
   "id": "5c75cd88e5066ef",
   "metadata": {
    "collapsed": false
   },
   "source": [
    "No missing values to deal with -- in range of column 1 - 146\n"
   ]
  },
  {
   "cell_type": "code",
   "execution_count": 12,
   "id": "40ec60cc276f05a3",
   "metadata": {
    "collapsed": false,
    "scrolled": true,
    "ExecuteTime": {
     "end_time": "2024-03-19T14:46:17.554696Z",
     "start_time": "2024-03-19T14:46:17.525791Z"
    }
   },
   "outputs": [
    {
     "name": "stdout",
     "output_type": "stream",
     "text": [
      "year         int64\n",
      "fw_start     int64\n",
      "fw_end       int64\n",
      "country      int64\n",
      "c_abrv      object\n",
      "v1           int64\n",
      "v2           int64\n",
      "v3           int64\n",
      "v4           int64\n",
      "v5           int64\n",
      "v7           int64\n",
      "v8           int64\n",
      "v9           int64\n",
      "v10          int64\n",
      "v11          int64\n",
      "v12          int64\n",
      "v13          int64\n",
      "v14          int64\n",
      "v15          int64\n",
      "v16          int64\n",
      "v17          int64\n",
      "v18          int64\n",
      "v19          int64\n",
      "f20          int64\n",
      "v20          int64\n",
      "v20a         int64\n",
      "v20b         int64\n",
      "v21          int64\n",
      "v22          int64\n",
      "v23          int64\n",
      "v24          int64\n",
      "f24_IT       int64\n",
      "v24a_IT      int64\n",
      "v24b_IT      int64\n",
      "v25          int64\n",
      "v26          int64\n",
      "v27          int64\n",
      "v28          int64\n",
      "v29          int64\n",
      "v30          int64\n",
      "f30a         int64\n",
      "v30a         int64\n",
      "v30b         int64\n",
      "v30c         int64\n",
      "v31          int64\n",
      "v32          int64\n",
      "v33          int64\n",
      "v34          int64\n",
      "v35          int64\n",
      "v36          int64\n",
      "v37          int64\n",
      "v38          int64\n",
      "v39          int64\n",
      "v40          int64\n",
      "v41          int64\n",
      "v42          int64\n",
      "v43          int64\n",
      "v44          int64\n",
      "v45          int64\n",
      "f45a         int64\n",
      "v45a         int64\n",
      "v45b         int64\n",
      "v45c         int64\n",
      "v46          int64\n",
      "f46_IT       int64\n",
      "v47          int64\n",
      "v48          int64\n",
      "v49          int64\n",
      "v50          int64\n",
      "v51          int64\n",
      "v52          int64\n",
      "v52_cs       int64\n",
      "v53          int64\n",
      "v54          int64\n",
      "v55          int64\n",
      "v56          int64\n",
      "v57          int64\n",
      "v58          int64\n",
      "v59          int64\n",
      "v60          int64\n",
      "v61          int64\n",
      "v62          int64\n",
      "v63          int64\n",
      "v64          int64\n",
      "v65          int64\n",
      "v66          int64\n",
      "v67          int64\n",
      "v68          int64\n",
      "v69          int64\n",
      "v70          int64\n",
      "v71          int64\n",
      "v72          int64\n",
      "v72_DE       int64\n",
      "v73          int64\n",
      "v73_DE       int64\n",
      "v74          int64\n",
      "v74_DE       int64\n",
      "v75          int64\n",
      "v75_DE       int64\n",
      "v76          int64\n",
      "v76_DE       int64\n",
      "v77          int64\n",
      "v77_DE       int64\n",
      "v78          int64\n",
      "v78_DE       int64\n",
      "v79          int64\n",
      "v79_DE       int64\n",
      "v80          int64\n",
      "v81          int64\n",
      "v82          int64\n",
      "v83          int64\n",
      "v84          int64\n",
      "f85          int64\n",
      "v85          int64\n",
      "v86          int64\n",
      "v87          int64\n",
      "v88          int64\n",
      "v89          int64\n",
      "v90          int64\n",
      "v91          int64\n",
      "v92          int64\n",
      "v93          int64\n",
      "v94          int64\n",
      "v95          int64\n",
      "f96          int64\n",
      "v96          int64\n",
      "v96a         int64\n",
      "v96b         int64\n",
      "v97          int64\n",
      "v98          int64\n",
      "v99          int64\n",
      "v100         int64\n",
      "v101         int64\n",
      "v102         int64\n",
      "v103         int64\n",
      "v104         int64\n",
      "v105         int64\n",
      "v106         int64\n",
      "v107         int64\n",
      "f108         int64\n",
      "v108         int64\n",
      "v109         int64\n",
      "f110         int64\n",
      "v110         int64\n",
      "v111         int64\n",
      "v111_4       int64\n",
      "dtype: object\n"
     ]
    }
   ],
   "source": [
    "print(x_train.iloc[:, :146].dtypes)"
   ]
  },
  {
   "cell_type": "markdown",
   "source": [
    "There is one string variable, `c_abrv`. We **drop** this variable as we already have the similar variable, `country`."
   ],
   "metadata": {
    "collapsed": false
   },
   "id": "d888b8095ef9c4e3"
  },
  {
   "cell_type": "code",
   "outputs": [
    {
     "name": "stdout",
     "output_type": "stream",
     "text": [
      "Frequency table for 'c_abrv' column:\n",
      "c_abrv\n",
      "DK    2843\n",
      "CH    2664\n",
      "NL    2000\n",
      "IT    1901\n",
      "GE    1854\n",
      "DE    1817\n",
      "FR    1587\n",
      "RU    1524\n",
      "CZ    1519\n",
      "AZ    1514\n",
      "GB    1491\n",
      "BA    1439\n",
      "AT    1376\n",
      "IS    1357\n",
      "UA    1348\n",
      "RO    1336\n",
      "BG    1302\n",
      "BY    1297\n",
      "HR    1271\n",
      "HU    1260\n",
      "AM    1257\n",
      "RS    1255\n",
      "LT    1222\n",
      "AL    1194\n",
      "SK    1188\n",
      "PL    1137\n",
      "LV    1106\n",
      "EE    1101\n",
      "PT    1022\n",
      "ES    1010\n",
      "FI    1004\n",
      "NO     951\n",
      "MK     940\n",
      "SI     913\n",
      "Name: count, dtype: int64\n"
     ]
    }
   ],
   "source": [
    "# See the values for c_abrv\n",
    "frequency_table = x_train['c_abrv'].value_counts()\n",
    "print(frequency_table)\n",
    "\n",
    "# Drop c_abrv\n",
    "x_train.drop('c_abrv', axis=1, inplace=True)\n",
    "x_test.drop('c_abrv', axis=1, inplace=True)"
   ],
   "metadata": {
    "collapsed": false,
    "ExecuteTime": {
     "end_time": "2024-03-19T14:51:48.842459Z",
     "start_time": "2024-03-19T14:51:48.807892Z"
    }
   },
   "id": "585c169797d5dd1e",
   "execution_count": 14
  },
  {
   "cell_type": "markdown",
   "source": [
    "Out of 145 *numeric* variables, based on the codebook, we classify them into the following groups:\n",
    "\n",
    "f46_IT? \n",
    "drop v72_DE, v73_DE v74_DE, v75_DE, v76_DE v77_DE v78_DE v79_DE\n",
    "\n",
    "1. Typical numeric variables: year, fw_start, fw_end, country\n",
    "2. How important in your life: ___ (importance order): v1, v2, v3, v4, v5\n",
    "3. Misc questions with logical ordinalities: v7, v8, v38, v39, v46, v47, v48, v49, v50, v54, v55, v56, v62, v63, v64, v72, v73, v74, v75, v76, v77, v78, v79, v80, v81, v82, v83, v84, v97, v102, v103, v104, v105, v106, v107\n",
    "4. Misc questions with yes/no: v21, v31, v51, v53, v71\n",
    "5. Do you belong to: ___ (category mentioned / not mentioned): v9, v10, v11, v12, v13, v14, v15, v16, v17, v18, v19\n",
    "**4-1.** Do you belong to - none? f20 (inconsistency), v20, v20a, v20b\n",
    "6. Don't like as neighbours: __ (category mentioned / not mentioned): v22, v23, v25, v26, v27, v28, v29, v30, \n",
    "**6-1.** Don't like as neighbours - immigrants / foreign workers?: v24, f24_IT, v24a_IT, v24b_IT\n",
    "**6-2.** Don't like as neighbours - none/DK: f30a, v30a, v30b, v30c, \n",
    "7. How much you trust: __ (category with ordinal reponses): v32, v33, v34, v35, v36, v37\n",
    "8. Important in a job: __ (category mentioned / not mentioned): v40, v41, v42, v43, v44, v45\n",
    "**8-1.** Important in a job - none: f45a, v45a, v45b, v45c, \n",
    "9. which religious denomination do you belong to : v52, v52_cs\n",
    "10. Do you believe in __ (category yes / no): v57, v58, v59, v60, v61\n",
    "11. Important in marriage: __ (category with ordinal reponses): v65, v66, v67, v68, v69, v70\n",
    "12. learn children at home: __ (category mentioned / not mentioned): v85, v86, v87, v88, v89, v90, v91, v92, v93, v94, v95\n",
    "**12-1**. f85: more than five checked\n",
    "**12-2**. learn children at home - none: f96, v96, v96a, v96b\n",
    "13. Political Action: __ (category with frequencies): v98, v99, v100, v101\n",
    "14. Aims of this country (category): f108, v108, v109\n",
    "15. Aims of respondent: f110, v110, v111, v111_4"
   ],
   "metadata": {
    "collapsed": false
   },
   "id": "a9772c17bfde2616"
  },
  {
   "cell_type": "markdown",
   "source": [],
   "metadata": {
    "collapsed": false
   },
   "id": "54a1f65f755a8dad"
  }
 ],
 "metadata": {
  "kernelspec": {
   "display_name": "Python 3 (ipykernel)",
   "language": "python",
   "name": "python3"
  },
  "language_info": {
   "codemirror_mode": {
    "name": "ipython",
    "version": 3
   },
   "file_extension": ".py",
   "mimetype": "text/x-python",
   "name": "python",
   "nbconvert_exporter": "python",
   "pygments_lexer": "ipython3",
   "version": "3.10.7"
  }
 },
 "nbformat": 4,
 "nbformat_minor": 5
}
