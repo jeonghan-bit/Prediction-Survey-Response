{
 "cells": [
  {
   "cell_type": "markdown",
   "source": [
    "# Explanatory Data Analysis"
   ],
   "metadata": {
    "collapsed": false
   },
   "id": "9b518d56fe216a57"
  },
  {
   "cell_type": "code",
   "outputs": [],
   "source": [
    "import pandas as pd\n",
    "import numpy as np\n",
    "import os\n",
    "import matplotlib.pyplot as plt\n",
    "import seaborn as sns\n",
    "\n",
    "x_train = pd.read_csv(\"../01-Data/X_train.csv\", index_col=0)\n",
    "x_test = pd.read_csv(\"../01-Data/X_test.csv\", index_col=0)\n",
    "y_train = pd.read_csv(\"../01-Data/y_train.csv\", index_col=0)"
   ],
   "metadata": {
    "ExecuteTime": {
     "end_time": "2024-03-19T01:28:38.640320Z",
     "start_time": "2024-03-19T01:28:36.959506Z"
    }
   },
   "id": "0f28a0d7-8dcf-4e09-8efd-c214c6c77a72",
   "execution_count": 1
  },
  {
   "cell_type": "markdown",
   "source": [
    "blabla\n"
   ],
   "metadata": {
    "collapsed": false
   },
   "id": "d6176f824145b027"
  },
  {
   "cell_type": "code",
   "outputs": [],
   "source": [],
   "metadata": {
    "collapsed": false
   },
   "id": "1c98f6a66da10b1b"
  },
  {
   "cell_type": "markdown",
   "source": [],
   "metadata": {
    "collapsed": false
   },
   "id": "5c75cd88e5066ef"
  }
 ],
 "metadata": {
  "kernelspec": {
   "display_name": "Python 3 (ipykernel)",
   "language": "python",
   "name": "python3"
  },
  "language_info": {
   "codemirror_mode": {
    "name": "ipython",
    "version": 3
   },
   "file_extension": ".py",
   "mimetype": "text/x-python",
   "name": "python",
   "nbconvert_exporter": "python",
   "pygments_lexer": "ipython3",
   "version": "3.11.7"
  }
 },
 "nbformat": 4,
 "nbformat_minor": 5
}
