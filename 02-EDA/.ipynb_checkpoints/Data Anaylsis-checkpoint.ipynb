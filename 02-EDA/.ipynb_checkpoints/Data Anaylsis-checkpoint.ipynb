{
 "cells": [
  {
   "cell_type": "code",
   "execution_count": 2,
   "id": "0f28a0d7-8dcf-4e09-8efd-c214c6c77a72",
   "metadata": {},
   "outputs": [
    {
     "name": "stdout",
     "output_type": "stream",
     "text": [
      "          id  year  fw_start  fw_end  country c_abrv  v1  v2  v3  v4  ...  \\\n",
      "0          0  2020    202011  202011      804     UA   2   1   2   2  ...   \n",
      "1          1  2018    201809  201811      688     RS   2   1   2   2  ...   \n",
      "2          2  2017    201706  201803      352     IS   2   2   1   1  ...   \n",
      "3          3  2021    202105  202110      428     LV   1   2   1   1  ...   \n",
      "4          4  2018    201801  201805       40     AT   1   1   2   2  ...   \n",
      "...      ...   ...       ...     ...      ...    ...  ..  ..  ..  ..  ...   \n",
      "47995  47995  2019    201812  201903      807     MK   1   1   1   2  ...   \n",
      "47996  47996  2018    201808  201812      578     NO   1   1   1   2  ...   \n",
      "47997  47997  2018    201802  201807        8     AL   2   1   1   2  ...   \n",
      "47998  47998  2017    201709  201801      208     DK   2   1   2   2  ...   \n",
      "47999  47999  2018    201802  201807      826     GB   1   1   1   1  ...   \n",
      "\n",
      "       v278b  v278c_r  v279a  v279b  v279c_r  v279d_r  v280  v281a  v281a_r  \\\n",
      "0         45    14.45     15     40    15.40       55     1     uk      475   \n",
      "1         12    17.12     18     25    18.25       73     2     sr      397   \n",
      "2         58    15.58     13     20    13.20       -5     2     is       72   \n",
      "3         42     8.42      8     51     8.51        9     1     lv      256   \n",
      "4         51    12.51     13     53    13.53       62     1     de      158   \n",
      "...      ...      ...    ...    ...      ...      ...   ...    ...      ...   \n",
      "47995     10    14.10     14     48    14.48       38     1     mk      279   \n",
      "47996     20    15.20     16     45    16.45       85     1     no      200   \n",
      "47997     40    13.40     14     20    14.20       40     1     sq       13   \n",
      "47998     -4    -4.00     -4     -4    -4.00       -4    -4     da       32   \n",
      "47999     36     9.36     10     22    10.22       46     1     en      128   \n",
      "\n",
      "       v282  \n",
      "0        32  \n",
      "1         3  \n",
      "2        87  \n",
      "3      5157  \n",
      "4        64  \n",
      "...     ...  \n",
      "47995     1  \n",
      "47996  1302  \n",
      "47997    10  \n",
      "47998    -4  \n",
      "47999  7823  \n",
      "\n",
      "[48000 rows x 438 columns]\n"
     ]
    }
   ],
   "source": [
    "import pandas as pd\n",
    "import numpy as np\n",
    "import os\n",
    "import matplotlib.pyplot as plt\n",
    "import seaborn as sns\n",
    "\n",
    "X_train = pd.read_csv(\"../01-Data/X_train.csv\")\n",
    "y_train = pd.read_csv(\"../01-Data/y_train.csv\")"
   ]
  },
  {
   "cell_type": "code",
   "execution_count": null,
   "id": "1157b5c3-b263-4a50-aaaa-698ba0415abc",
   "metadata": {},
   "outputs": [],
   "source": []
  },
  {
   "cell_type": "code",
   "execution_count": null,
   "id": "861a37ff-b723-4ade-9e17-0c041d2315e0",
   "metadata": {},
   "outputs": [],
   "source": []
  }
 ],
 "metadata": {
  "kernelspec": {
   "display_name": "Python 3 (ipykernel)",
   "language": "python",
   "name": "python3"
  },
  "language_info": {
   "codemirror_mode": {
    "name": "ipython",
    "version": 3
   },
   "file_extension": ".py",
   "mimetype": "text/x-python",
   "name": "python",
   "nbconvert_exporter": "python",
   "pygments_lexer": "ipython3",
   "version": "3.11.7"
  }
 },
 "nbformat": 4,
 "nbformat_minor": 5
}
