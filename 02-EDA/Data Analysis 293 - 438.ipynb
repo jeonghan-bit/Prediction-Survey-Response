{
 "cells": [
  {
   "cell_type": "code",
   "execution_count": 68,
   "id": "f1c958ad5a5f36cf",
   "metadata": {
    "ExecuteTime": {
     "end_time": "2024-03-27T20:03:19.200026Z",
     "start_time": "2024-03-27T20:03:17.741076Z"
    },
    "collapsed": false
   },
   "outputs": [],
   "source": [
    "# Import packages\n",
    "import pandas as pd\n",
    "from warnings import simplefilter\n",
    "simplefilter(action=\"ignore\", category=pd.errors.PerformanceWarning)\n",
    "import numpy as np\n",
    "import os\n",
    "import matplotlib.pyplot as plt\n",
    "import seaborn as sns\n",
    "import xgboost as xgb\n",
    "\n",
    "# Set options\n",
    "pd.options.display.max_rows = 999\n",
    "pd.options.display.max_columns = 999\n",
    "\n",
    "train_x_raw = pd.read_csv(\"../01-Data/X_train.csv\", low_memory = True, index_col=0)\n",
    "train_y_raw = pd.read_csv(\"../01-Data/y_train.csv\", low_memory = True, index_col=0)\n",
    "test_x_raw = pd.read_csv(\"../01-Data/X_test.csv\", low_memory=True, index_col=0)\n",
    "\n",
    "df_train = pd.DataFrame(train_x_raw)\n",
    "df_test = pd.DataFrame(test_x_raw)\n",
    "df_y = pd.DataFrame(train_y_raw)"
   ]
  },
  {
   "cell_type": "markdown",
   "id": "900eda63d264a510",
   "metadata": {
    "collapsed": false
   },
   "source": [
    "## Variable 293 - 438 Preprocessing\n"
   ]
  },
  {
   "cell_type": "markdown",
   "id": "aacec648596caebf",
   "metadata": {
    "collapsed": false
   },
   "source": [
    "### Age-related variables processing"
   ]
  },
  {
   "cell_type": "code",
   "execution_count": 69,
   "id": "e0d276d8e1a40e6c",
   "metadata": {
    "ExecuteTime": {
     "end_time": "2024-03-27T20:03:19.215997Z",
     "start_time": "2024-03-27T20:03:19.201950Z"
    },
    "collapsed": false
   },
   "outputs": [],
   "source": [
    "# v226 year of birth respondent (Q64)\n",
    "# age age:respondent\n",
    "# age_r age recorded (6 intervals)\n",
    "# age_r2 age recoded (3 intervals)\n",
    "# age_r3 age recoded (7 intervals)\n",
    "\n",
    "ages = ['v226', 'age', 'age_r', 'age_r2', 'age_r3']\n",
    "#df_train.drop(columns=ages_to_drop, inplace=True)\n",
    "#df_test.drop(columns=ages_to_drop, inplace=True)\n",
    "# DECIDE WHICH ONE TO KEEP AFTER EVALUATING "
   ]
  },
  {
   "cell_type": "markdown",
   "id": "42778524cbcef694",
   "metadata": {
    "collapsed": false
   },
   "source": [
    "### Education level-related variables drop"
   ]
  },
  {
   "cell_type": "code",
   "execution_count": 70,
   "id": "46ffe59c6aff0003",
   "metadata": {
    "ExecuteTime": {
     "end_time": "2024-03-27T20:03:19.231981Z",
     "start_time": "2024-03-27T20:03:19.216951Z"
    },
    "collapsed": false
   },
   "outputs": [
    {
     "name": "stdout",
     "output_type": "stream",
     "text": [
      "['v243_edulvlb', 'v243_edulvlb_2', 'v243_edulvlb_1', 'v243_ISCED_3', 'v243_ISCED_2', 'v243_ISCED_2b', 'v243_ISCED_1', 'v243_EISCED', 'v243_ISCED97', 'v243_8cat', 'v243_r', 'v243_cs', 'v243_cs_DE1', 'v243_cs_DE2', 'v243_cs_DE3', 'v243_cs_GB1', 'v243_cs_GB2']\n"
     ]
    }
   ],
   "source": [
    "def find_colname(data, target):\n",
    "    temp = []\n",
    "    for varname in data.columns:\n",
    "        if varname.startswith(target):\n",
    "            temp.append(varname)\n",
    "    return(temp)\n",
    "\n",
    "# v243*: educational level respondent: ... with variations\n",
    "\n",
    "print(find_colname(df_train, 'v243'))"
   ]
  },
  {
   "cell_type": "code",
   "execution_count": 71,
   "id": "d0e8378d1531ff52",
   "metadata": {
    "ExecuteTime": {
     "end_time": "2024-03-27T20:03:19.292797Z",
     "start_time": "2024-03-27T20:03:19.233956Z"
    },
    "collapsed": false
   },
   "outputs": [],
   "source": [
    "# keep v243_ISCED_3: educational level respondent: ISCED-code three digit  \n",
    "v243_to_drop = ['v243_edulvlb', 'v243_edulvlb_2', 'v243_edulvlb_1', 'v243_ISCED_2', 'v243_ISCED_2b','v243_ISCED_1', 'v243_EISCED', 'v243_ISCED97', 'v243_8cat', 'v243_r', 'v243_cs', 'v243_cs_DE1', 'v243_cs_DE2', 'v243_cs_DE3', 'v243_cs_GB1', 'v243_cs_GB2']\n",
    "\n",
    "df_train.drop(columns=v243_to_drop, inplace=True)\n",
    "df_test.drop(columns=v243_to_drop, inplace=True)"
   ]
  },
  {
   "cell_type": "markdown",
   "id": "439628fbe2a88499",
   "metadata": {
    "collapsed": false
   },
   "source": [
    "### Job kinds-related variables drop"
   ]
  },
  {
   "cell_type": "code",
   "execution_count": 72,
   "id": "6feb5349b3c09fe",
   "metadata": {
    "ExecuteTime": {
     "end_time": "2024-03-27T20:03:19.307727Z",
     "start_time": "2024-03-27T20:03:19.294725Z"
    },
    "collapsed": false
   },
   "outputs": [
    {
     "name": "stdout",
     "output_type": "stream",
     "text": [
      "['v246_ISCO_2', 'v246_SIOPS', 'v246_ISEI', 'v246_ESeC', 'v246_egp']\n"
     ]
    }
   ],
   "source": [
    "print(find_colname(df_train, 'v246'))"
   ]
  },
  {
   "cell_type": "code",
   "execution_count": 73,
   "id": "f9e4658f5ce09cb0",
   "metadata": {
    "ExecuteTime": {
     "end_time": "2024-03-27T20:03:19.370727Z",
     "start_time": "2024-03-27T20:03:19.309725Z"
    },
    "collapsed": false
   },
   "outputs": [],
   "source": [
    "# keep v246_ESeC : kind of job respondent - ESEC08 code  \n",
    "v246_to_drop = ['v246_ISCO_2', 'v246_SIOPS', 'v246_ISEI', 'v246_egp']\n",
    "\n",
    "df_train.drop(columns=v246_to_drop, inplace=True)\n",
    "df_test.drop(columns=v246_to_drop, inplace=True)"
   ]
  },
  {
   "cell_type": "markdown",
   "id": "38454bbcd86a597d",
   "metadata": {
    "collapsed": false
   },
   "source": [
    "### Partner Education Level variables drop"
   ]
  },
  {
   "cell_type": "code",
   "execution_count": 74,
   "id": "36dfbf0819007382",
   "metadata": {
    "ExecuteTime": {
     "end_time": "2024-03-27T20:03:19.386724Z",
     "start_time": "2024-03-27T20:03:19.372731Z"
    },
    "collapsed": false
   },
   "outputs": [
    {
     "name": "stdout",
     "output_type": "stream",
     "text": [
      "['v252_edulvlb', 'v252_edulvlb_2', 'v252_edulvlb_1', 'v252_ISCED_3', 'v252_ISCED_2', 'v252_ISCED_2b', 'v252_ISCED_1', 'v252_EISCED', 'v252_ISCED97', 'v252_8cat', 'v252_r', 'v252_cs', 'v252_cs_DE1', 'v252_cs_DE2', 'v252_cs_DE3', 'v252_cs_GB1', 'v252_cs_GB2']\n"
     ]
    }
   ],
   "source": [
    "print(find_colname(df_train, 'v252'))"
   ]
  },
  {
   "cell_type": "code",
   "execution_count": 75,
   "id": "247501dcf08681f4",
   "metadata": {
    "ExecuteTime": {
     "end_time": "2024-03-27T20:03:19.464726Z",
     "start_time": "2024-03-27T20:03:19.387725Z"
    },
    "collapsed": false
   },
   "outputs": [],
   "source": [
    "# keep v252_edulvlb_2: educational level spouse/partner: ESS-edulvlb coding two digits \n",
    "v252_to_drop = ['v252_edulvlb', 'v252_edulvlb_1', 'v252_ISCED_3', 'v252_ISCED_2', 'v252_ISCED_2b', 'v252_ISCED_1', 'v252_EISCED', 'v252_ISCED97', 'v252_8cat', 'v252_r', 'v252_cs', 'v252_cs_DE1', 'v252_cs_DE2', 'v252_cs_DE3', 'v252_cs_GB1', 'v252_cs_GB2']\n",
    "\n",
    "df_train.drop(columns=v252_to_drop, inplace=True)\n",
    "df_test.drop(columns=v252_to_drop, inplace=True)"
   ]
  },
  {
   "cell_type": "markdown",
   "id": "8d1945d2da050803",
   "metadata": {
    "collapsed": false
   },
   "source": [
    "### Kind of job partner variables drop"
   ]
  },
  {
   "cell_type": "code",
   "execution_count": 76,
   "id": "d130ca5f4cc5f6ed",
   "metadata": {
    "ExecuteTime": {
     "end_time": "2024-03-27T20:03:19.480725Z",
     "start_time": "2024-03-27T20:03:19.469652Z"
    },
    "collapsed": false
   },
   "outputs": [
    {
     "name": "stdout",
     "output_type": "stream",
     "text": [
      "['v255_ISCO_2', 'v255_SIOPS', 'v255_ISEI', 'v255_ESeC', 'v255_egp']\n"
     ]
    }
   ],
   "source": [
    "print(find_colname(df_train, 'v255'))"
   ]
  },
  {
   "cell_type": "code",
   "execution_count": 77,
   "id": "cb67dd89c3bd5369",
   "metadata": {
    "ExecuteTime": {
     "end_time": "2024-03-27T20:03:19.544208Z",
     "start_time": "2024-03-27T20:03:19.482655Z"
    },
    "collapsed": false
   },
   "outputs": [],
   "source": [
    "# keep v255_ESeC: kind of job spouse/partner - ESEC08 code \n",
    "v255_to_drop = ['v255_ISCO_2', 'v255_SIOPS', 'v255_ISEI', 'v255_egp']\n",
    "\n",
    "df_train.drop(columns=v255_to_drop, inplace=True)\n",
    "df_test.drop(columns=v255_to_drop, inplace=True)"
   ]
  },
  {
   "cell_type": "markdown",
   "id": "1434deb30f30ab48",
   "metadata": {
    "collapsed": false
   },
   "source": [
    "### Households income variables to drop"
   ]
  },
  {
   "cell_type": "code",
   "execution_count": 78,
   "id": "10a81a6a0df0a3f4",
   "metadata": {
    "ExecuteTime": {
     "end_time": "2024-03-27T20:03:19.559470Z",
     "start_time": "2024-03-27T20:03:19.546201Z"
    },
    "collapsed": false
   },
   "outputs": [
    {
     "name": "stdout",
     "output_type": "stream",
     "text": [
      "['v261', 'v261_ppp', 'v261_r']\n"
     ]
    }
   ],
   "source": [
    "print(find_colname(df_train, 'v261'))"
   ]
  },
  {
   "cell_type": "code",
   "execution_count": 79,
   "id": "9241ce4e58c53f5a",
   "metadata": {
    "ExecuteTime": {
     "end_time": "2024-03-27T20:03:19.622355Z",
     "start_time": "2024-03-27T20:03:19.561472Z"
    },
    "collapsed": false
   },
   "outputs": [],
   "source": [
    "df_train.drop('v261_ppp', inplace=True, axis=1)\n",
    "df_test.drop('v261_ppp', inplace=True, axis=1)"
   ]
  },
  {
   "cell_type": "markdown",
   "id": "6eb926bc635352b2",
   "metadata": {
    "collapsed": false
   },
   "source": [
    "### education level father/mother variables drop"
   ]
  },
  {
   "cell_type": "code",
   "execution_count": 80,
   "id": "7cdd996cd06de487",
   "metadata": {
    "ExecuteTime": {
     "end_time": "2024-03-27T20:03:19.638317Z",
     "start_time": "2024-03-27T20:03:19.624316Z"
    },
    "collapsed": false
   },
   "outputs": [
    {
     "name": "stdout",
     "output_type": "stream",
     "text": [
      "['v262_edulvlb', 'v262_edulvlb_2', 'v262_edulvlb_1', 'v262_ISCED_3', 'v262_ISCED_2', 'v262_ISCED_2b', 'v262_ISCED_1', 'v262_EISCED', 'v262_ISCED97', 'v262_8cat', 'v262_r', 'v262_cs', 'v262_cs_DE1', 'v262_cs_DE2', 'v262_cs_DE3', 'v262_cs_GB1', 'v262_cs_GB2']\n"
     ]
    }
   ],
   "source": [
    "print(find_colname(df_train, 'v262'))"
   ]
  },
  {
   "cell_type": "code",
   "execution_count": 81,
   "id": "db6c7f83801d0dba",
   "metadata": {
    "ExecuteTime": {
     "end_time": "2024-03-27T20:03:19.701125Z",
     "start_time": "2024-03-27T20:03:19.640319Z"
    },
    "collapsed": false
   },
   "outputs": [],
   "source": [
    "# keep v262_edulvlb_2: educational level father: ESS-edulvlb coding two digits \n",
    "v262_to_drop = ['v262_edulvlb', 'v262_edulvlb_1', 'v262_ISCED_3', 'v262_ISCED_2', 'v262_ISCED_2b', 'v262_ISCED_1', 'v262_EISCED', 'v262_ISCED97', 'v262_8cat', 'v262_r', 'v262_cs', 'v262_cs_DE1', 'v262_cs_DE2', 'v262_cs_DE3', 'v262_cs_GB1', 'v262_cs_GB2']\n",
    "\n",
    "df_train.drop(columns=v262_to_drop, inplace=True)\n",
    "df_test.drop(columns=v262_to_drop, inplace=True)"
   ]
  },
  {
   "cell_type": "code",
   "execution_count": 82,
   "id": "2aab772b67856329",
   "metadata": {
    "ExecuteTime": {
     "end_time": "2024-03-27T20:03:19.716559Z",
     "start_time": "2024-03-27T20:03:19.703336Z"
    },
    "collapsed": false
   },
   "outputs": [
    {
     "name": "stdout",
     "output_type": "stream",
     "text": [
      "['v263_edulvlb', 'v263_edulvlb_2', 'v263_edulvlb_1', 'v263_ISCED_3', 'v263_ISCED_2', 'v263_ISCED_2b', 'v263_ISCED_1', 'v263_EISCED', 'v263_ISCED97', 'v263_8cat', 'v263_r', 'v263_cs', 'v263_cs_DE1', 'v263_cs_DE2', 'v263_cs_DE3', 'v263_cs_GB1', 'v263_cs_GB2']\n"
     ]
    }
   ],
   "source": [
    "print(find_colname(df_train, 'v263'))"
   ]
  },
  {
   "cell_type": "code",
   "execution_count": 83,
   "id": "482b9a76b4847bff",
   "metadata": {
    "ExecuteTime": {
     "end_time": "2024-03-27T20:03:19.778396Z",
     "start_time": "2024-03-27T20:03:19.718468Z"
    },
    "collapsed": false
   },
   "outputs": [],
   "source": [
    "# keep v263_edulvlb_2:educational level mother: ESS-edulvlb coding two digits\n",
    "v263_to_drop = ['v263_edulvlb', 'v263_edulvlb_2', 'v263_edulvlb_1', 'v263_ISCED_3', 'v263_ISCED_2', 'v263_ISCED_2b', 'v263_ISCED_1', 'v263_EISCED', 'v263_ISCED97', 'v263_8cat', 'v263_r', 'v263_cs', 'v263_cs_DE1', 'v263_cs_DE2', 'v263_cs_DE3', 'v263_cs_GB1', 'v263_cs_GB2']\n",
    "\n",
    "df_train.drop(columns=v263_to_drop, inplace=True)\n",
    "df_test.drop(columns=v263_to_drop, inplace=True)"
   ]
  },
  {
   "cell_type": "markdown",
   "id": "2ea74aaf2902808d",
   "metadata": {
    "collapsed": false
   },
   "source": [
    "### Interview dates variables drop"
   ]
  },
  {
   "cell_type": "code",
   "execution_count": 84,
   "id": "5bc2b3aea875be86",
   "metadata": {
    "ExecuteTime": {
     "end_time": "2024-03-27T20:03:19.842470Z",
     "start_time": "2024-03-27T20:03:19.780394Z"
    },
    "collapsed": false
   },
   "outputs": [],
   "source": [
    "# v277: date of interview \n",
    "# v278a: time of interview: start hour \n",
    "# v278b: time of interview: start minute \n",
    "# v278c_r: time of interview: start  \n",
    "# v279a: time of interview: end hour \n",
    "# v279b: time of interview: end minute \n",
    "# v279c_r: time of interview: end \n",
    "# v279d_r: time of interview: duration in minutes \n",
    "\n",
    "times_to_drop = ['v277', 'v278b', 'v278c_r', 'v279a', 'v279b', 'v279c_r']\n",
    "\n",
    "df_train.drop(columns=times_to_drop, inplace=True)\n",
    "df_test.drop(columns=times_to_drop, inplace=True)"
   ]
  },
  {
   "cell_type": "markdown",
   "id": "deab0ca58d32127a",
   "metadata": {
    "collapsed": false
   },
   "source": [
    "### Age related variables group into intervals"
   ]
  },
  {
   "cell_type": "code",
   "execution_count": 85,
   "id": "40abd5f9a9cbd6a8",
   "metadata": {
    "ExecuteTime": {
     "end_time": "2024-03-27T20:03:19.857395Z",
     "start_time": "2024-03-27T20:03:19.844395Z"
    },
    "collapsed": false
   },
   "outputs": [],
   "source": [
    "# v241, v242\n",
    "# more to add"
   ]
  },
  {
   "cell_type": "markdown",
   "id": "ee429fb09c3c042a",
   "metadata": {
    "collapsed": false
   },
   "source": [
    "### Imputation / String variable drop"
   ]
  },
  {
   "cell_type": "code",
   "execution_count": 86,
   "id": "843d9093b0219ff6",
   "metadata": {
    "ExecuteTime": {
     "end_time": "2024-03-27T20:03:20.015185Z",
     "start_time": "2024-03-27T20:03:19.858395Z"
    },
    "collapsed": false
   },
   "outputs": [],
   "source": [
    "columns_to_drop = ['v228b', 'v231b', 'v233b', 'v251b', 'f252_edulvlb_CH', 'v275b_N1', 'v275b_N2', 'v275c_N2', 'v281a']\n",
    "df_train.drop(columns=columns_to_drop, inplace=True)\n",
    "df_test.drop(columns=columns_to_drop, inplace=True)\n",
    "\n",
    "## removed the column having 'GB'\n",
    "df_train.drop(list(df_train.filter(regex='DE')), axis=1, inplace=True)\n",
    "df_test.drop(list(df_test.filter(regex='DE')), axis=1, inplace=True)\n",
    "\n",
    "## removed the column having 'GB'\n",
    "df_train.drop(list(df_train.filter(regex='GB')), axis=1, inplace=True)\n",
    "df_test.drop(list(df_test.filter(regex='GB')), axis=1, inplace=True)\n",
    "\n",
    "# Imputation \n",
    "df_train.fillna({'v231b_r': -3}, inplace=True)\n",
    "df_test.fillna({'v231b_r': -3}, inplace=True)\n",
    "\n",
    "df_train.fillna({'v233b_r': -3}, inplace=True)\n",
    "df_test.fillna({'v233b_r': -3}, inplace=True)\n",
    "\n",
    "df_train.fillna({'v251b_r': -3}, inplace=True)\n",
    "df_test.fillna({'v251b_r': -3}, inplace=True)\n",
    "\n",
    "df_train.fillna({'v228b_r': -3}, inplace=True)\n",
    "df_test.fillna({'v228b_r': -3}, inplace=True)"
   ]
  }
 ],
 "metadata": {
  "kernelspec": {
   "display_name": "Python 3",
   "language": "python",
   "name": "python3"
  },
  "language_info": {
   "codemirror_mode": {
    "name": "ipython",
    "version": 2
   },
   "file_extension": ".py",
   "mimetype": "text/x-python",
   "name": "python",
   "nbconvert_exporter": "python",
   "pygments_lexer": "ipython2",
   "version": "3.10.13"
  }
 },
 "nbformat": 4,
 "nbformat_minor": 5
}
