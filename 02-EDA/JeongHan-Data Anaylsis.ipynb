{
 "cells": [
  {
   "cell_type": "code",
   "execution_count": 9,
   "id": "16a41d6c",
   "metadata": {},
   "outputs": [],
   "source": [
    "## CLEAR VARIABLES\n",
    "# %reset"
   ]
  },
  {
   "cell_type": "markdown",
   "id": "f220fffc",
   "metadata": {},
   "source": [
    "# Explanatory Data Analysis\n",
    "\n",
    "## Objectives:\n",
    "\n",
    "- Analysis of NA values\n",
    "- Correlation Analysis\n",
    "- Analysis of Categorical/Numerical values\n",
    "\n",
    "## Load Data"
   ]
  },
  {
   "cell_type": "code",
   "execution_count": 1,
   "id": "0f28a0d7-8dcf-4e09-8efd-c214c6c77a72",
   "metadata": {},
   "outputs": [],
   "source": [
    "import pandas as pd\n",
    "import numpy as np\n",
    "import sys\n",
    "import os\n",
    "import matplotlib.pyplot as plt\n",
    "import seaborn as sns\n",
    "from tabulate import tabulate\n",
    "\n",
    "# Import data\n",
    "train_x_raw = pd.read_csv(\"../01-Data/X_train.csv\", low_memory = True, index_col=0)\n",
    "train_y_raw = pd.read_csv(\"../01-Data/y_train.csv\", low_memory = True, index_col=0)\n",
    "test_x_raw = pd.read_csv(\"../01-Data/X_test.csv\", low_memory=True, index_col=0)\n",
    "\n",
    "df_train = pd.DataFrame(train_x_raw)\n",
    "df_test = pd.DataFrame(test_x_raw)\n",
    "df_y = pd.DataFrame(train_y_raw)\n",
    "\n",
    "# display(df)\n",
    "# df.describe().T"
   ]
  },
  {
   "cell_type": "markdown",
   "id": "b16bb7af",
   "metadata": {},
   "source": [
    "## Check Missing Data\n",
    "- v228b_r: respondents country of birth (ISO 3166-1 numeric code) \n",
    "- v231b_r: fathers country of birth (ISO 3166-1 numeric code) \n",
    "- v233b_r: mothers country of birth (ISO 3166-1 numeric code) \n",
    "- v251b_r: spouse/partners country of birth (ISO 3166-1 numeric code) \n",
    "\n",
    "Note that they are translate from (ISO 3166-1/3 Alpha code) to (ISO 3166-1 numeric code). Thus, we need to also examine Alpha code variables as well.\n",
    "\n",
    "- v228b: respondents country of birth (ISO 3166-1/3 Alpha code)\n",
    "- v231b: fathers country of birth (ISO 3166-1/3 Alpha code)\n",
    "- v233b: mothers country of birth (ISO 3166-1/3 Alpha code)\n",
    "- v251b: spouse/partners country of birth (ISO 3166-1/3 Alpha code)\n",
    "\n",
    "=> Hot-one encoding for ctry strs"
   ]
  },
  {
   "cell_type": "markdown",
   "id": "9a6b7d5a",
   "metadata": {},
   "source": [
    "## Important notes:\n",
    "### Analysis (V111_4 ~ V228b_r)\n",
    "- *v112 / f112_SE* (Same question: are you willing to fight for country): DROP ==> only -4 in train dataset\n",
    "- Variables ... ending with _11c ex: *v133 / v133_11c* (Same question): -4 ==> Sum of all the other variables in *v133_11c*\n"
   ]
  },
  {
   "cell_type": "code",
   "execution_count": 11,
   "id": "0ce8d8da",
   "metadata": {},
   "outputs": [
    {
     "name": "stdout",
     "output_type": "stream",
     "text": [
      "|   Numeric Value | Survey Answer         |\n",
      "|-----------------|-----------------------|\n",
      "|             -10 | multiple answers Mail |\n",
      "|              -2 | no answer             |\n",
      "|              -1 | dont know             |\n",
      "|               1 | a great deal          |\n",
      "|               2 | quite a lot           |\n",
      "|               3 | not very much         |\n",
      "|               4 | none at all           |\n"
     ]
    }
   ],
   "source": [
    "Answer_table = [[-10, \"multiple answers Mail\"], [-2, \"no answer\"], [-1, \"dont know\"], [1, \"a great deal\"], [2, \"quite a lot\"],\n",
    "                [3, \"not very much\"], [4, \"none at all\"]]\n",
    "print(tabulate(Answer_table, headers=[\"Numeric Value\", \"Survey Answer\"], tablefmt='github'))"
   ]
  },
  {
   "cell_type": "code",
   "execution_count": 4,
   "id": "0bdc16e0",
   "metadata": {},
   "outputs": [],
   "source": [
    "############################################################# FUNCTIONS ###############################################################\n",
    "\n",
    "### Function to find the targeted colname\n",
    "def find_colname_start(data, target):\n",
    "  temp = []\n",
    "  for varname in data.columns:\n",
    "      if varname.startwith(target):\n",
    "        temp.append(varname)\n",
    "  return(temp)\n",
    "  \n",
    "def find_colname_end(data, target):\n",
    "  temp = []\n",
    "  for varname in data.columns:\n",
    "      if varname.endswith(target):\n",
    "        temp.append(varname)\n",
    "  return(temp)\n",
    "  \n",
    "\n",
    "from collections import Counter\n",
    "\n",
    "def merge_columns(dat, colname):\n",
    "    for name in colname:\n",
    "        name_org = name.replace(\"_11c\", \"\")\n",
    "        dat.loc[dat[name_org] == -4, name_org] = dat.loc[dat[name_org] == -4, name]\n",
    "\n",
    "\n",
    "def print_diff(varname):\n",
    "  print(set(df_train[varname].unique()).difference(set(df_test[varname].unique())))\n",
    "\n",
    "def cumulatively_categorise(column,threshold=0.80,return_categories_list=True):\n",
    "  #Find the threshold value using the percentage and number of instances in the column\n",
    "  threshold_value=int(threshold*len(column))\n",
    "  #Initialise an empty list for our new minimised categories \n",
    "  categories_list=[]\n",
    "  #Initialise a variable to calculate the sum of frequencies\n",
    "  s=0\n",
    "  #Create a counter dictionary of the form unique_value: frequency\n",
    "  counts=Counter(column)\n",
    "\n",
    "  #Loop through the category name and its corresponding frequency after sorting the categories by descending order of frequency\n",
    "  for i,j in counts.most_common():\n",
    "    #Add the frequency to the global sum\n",
    "    s+=dict(counts)[i]\n",
    "    #Append the category name to the list\n",
    "    categories_list.append(i)\n",
    "    #Check if the global sum has reached the threshold value, if so break the loop\n",
    "    if s>=threshold_value:\n",
    "      break\n",
    "  #Append the category Other to the list\n",
    "  categories_list.append(-100)\n",
    "\n",
    "  #Replace all instances not in our new categories by Other  \n",
    "  new_column=column.apply(lambda x: x if x in categories_list else -100)\n",
    "\n",
    "  #Return transformed column and unique values if return_categories=True\n",
    "  if(return_categories_list):\n",
    "    return new_column,categories_list\n",
    "  #Return only the transformed column if return_categories=False\n",
    "  else:\n",
    "    return new_column\n",
    "  \n",
    "def simpleAggregation_helper(var, threshold):\n",
    "  train=df_train[var]\n",
    "  test=df_test[var]\n",
    "  cat = [train, test]\n",
    "  df = pd.concat(cat)\n",
    "  transformed_column=cumulatively_categorise(df, threshold, return_categories_list=False)\n",
    "  tc_train=transformed_column[0:len(train)]\n",
    "  tc_test=transformed_column[len(train):len(train)+len(test)]\n",
    "  df_train[var]=tc_train\n",
    "  df_test[var]=tc_test\n",
    "\n",
    "  \n",
    "def simpleAggregation(variable, threshold=0.8):\n",
    "    if isinstance(variable, str):\n",
    "      simpleAggregation_helper(variable, threshold)\n",
    "    elif isinstance(variable, list):\n",
    "      for varname in variable:\n",
    "        simpleAggregation_helper(varname, threshold)\n",
    "\n",
    "##############################################################################################################################"
   ]
  },
  {
   "cell_type": "code",
   "execution_count": 5,
   "id": "5d35cf86",
   "metadata": {},
   "outputs": [
    {
     "name": "stdout",
     "output_type": "stream",
     "text": [
      "['v52_cs', 'v174_cs', 'v175_cs', 'v243_cs', 'v252_cs', 'v262_cs', 'v263_cs']\n"
     ]
    }
   ],
   "source": [
    "### Find variables containing _cs and do SimpleAggregation\n",
    "\n",
    "print(find_colname_end(df_train, '_cs'))"
   ]
  },
  {
   "cell_type": "markdown",
   "id": "85f9245d",
   "metadata": {},
   "source": [
    "## Year/Month Duration Calculation"
   ]
  },
  {
   "cell_type": "code",
   "execution_count": null,
   "id": "2b117b2e",
   "metadata": {},
   "outputs": [],
   "source": [
    "### Convert fw_start ==> Start month of fw\n",
    "### Convert fw_end ==> Duration of fw\n",
    "def timeEDA(data):\n",
    "    fw_start = data['fw_start']\n",
    "    fw_end = data['fw_end']\n",
    "    fieldwork_start_month = []\n",
    "    fw_duration = []\n",
    "    for obs in range(0, len(fw_end)):\n",
    "        fw_start_year = int(str(fw_start[obs])[0:4])\n",
    "        fw_start_month = int(str(fw_start[obs])[4:6])\n",
    "        fw_end_year = int(str(fw_end[obs])[0:4])\n",
    "        fw_end_month = int(str(fw_end[obs])[4:6])\n",
    "        duration_year = fw_end_year - fw_start_year\n",
    "        duration_month = fw_end_month - fw_start_month\n",
    "        duration = 12*duration_year + duration_month\n",
    "        fieldwork_start_month.append(fw_start_month)\n",
    "        fw_duration.append(duration)\n",
    "    data['fw_start'] = fieldwork_start_month\n",
    "    data['fw_end'] = fw_duration\n",
    "    data.rename(columns={'fw_start':'fw_start_month', 'fw_end':'fw_duration'}, inplace=True)\n"
   ]
  },
  {
   "cell_type": "code",
   "execution_count": null,
   "id": "96700613",
   "metadata": {},
   "outputs": [],
   "source": [
    "merge_colname = find_colname_end(df_train, '_11c')\n",
    "merge_columns(df_train, merge_colname)\n",
    "merge_columns(df_test, merge_colname)\n",
    "# print(find_colname(train_x_raw, 'c', 'endwith'))\n",
    "# print(find_colname(train_x_raw, '_r', 'endwith'))\n",
    "### Find variables containing _cs and do SimpleAggregation\n",
    "# print(find_colname(df_train, '_cs', 'endwith'))\n",
    "aggregatecol = find_colname_end(df_train, '_cs')\n",
    "simpleAggregation(aggregatecol) #### TRAIN/TEST BOTH APPLICABLE\n"
   ]
  }
 ],
 "metadata": {
  "kernelspec": {
   "display_name": "Python 3 (ipykernel)",
   "language": "python",
   "name": "python3"
  },
  "language_info": {
   "codemirror_mode": {
    "name": "ipython",
    "version": 3
   },
   "file_extension": ".py",
   "mimetype": "text/x-python",
   "name": "python",
   "nbconvert_exporter": "python",
   "pygments_lexer": "ipython3",
   "version": "3.10.13"
  }
 },
 "nbformat": 4,
 "nbformat_minor": 5
}
